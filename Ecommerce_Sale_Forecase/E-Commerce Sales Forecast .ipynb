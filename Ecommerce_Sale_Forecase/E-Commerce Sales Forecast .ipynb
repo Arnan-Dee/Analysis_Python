{
 "cells": [
  {
   "cell_type": "markdown",
   "metadata": {
    "_uuid": "6ada2c989fda9872168bc4c9a147ae98733ac53a"
   },
   "source": [
    "## Warehouse optimization\n",
    "\n",
    "Within this kernel we will analyse sales data of an UK online retailer. As storage area may be expensive and fast delivery on time is important to prevail over the competition we like to help the retailer by predicting daily amounts of sold products. "
   ]
  },
  {
   "cell_type": "markdown",
   "metadata": {
    "_uuid": "d30cc160f6573c01fc3691b9fcac5bd9e4c2f73b"
   },
   "source": [
    "## Table of contents\n",
    "\n",
    "**Caution - Everything is heavily under construction ;-)** \n",
    "\n",
    "### [Get ready to take-off](#takeoff) \n",
    "\n",
    "1. [Prepare to start](#load) (complete)\n",
    "2. [Get familiar with the data](#intro) (complete)\n",
    "3. [Get an initial feeling for the data by exploration](#feeling) \n",
    "    * [Missing values](#missing) (complete)\n",
    "    * [The time period](#timeperiod) (complete)\n",
    "    * [The invoice number](#invoiceno) (complete)\n",
    "    * [Stockcodes](#stockcodes) (complete)\n",
    "    * [Descriptions](#descriptions) (complete)\n",
    "    * [Customers](#customers)\n",
    "    * [Countries](#countries) (complete)\n",
    "    * [Unit Price](#unitprice)\n",
    "    * [Quantities](#quantities) (complete)\n",
    "    * [Revenues](#revenues)\n",
    "    * [Conclusion](#expconclusion)\n",
    "4. [Focus on daily product sales](#daily) \n",
    "\n",
    "\n",
    "### Play with the kitten - catboost baseline\n",
    "\n",
    "1. What is Catboost? \n",
    "2. What do we have to know about the loss and metric?\n",
    "3. What are hyperparameters and how to find them?\n",
    "4. What if we run predictions with raw data?\n",
    "\n",
    "\n",
    "### Circulate through the process of feature engineering\n",
    "\n",
    "\n",
    "### Behind the scences - What has the model learnt?"
   ]
  },
  {
   "cell_type": "markdown",
   "metadata": {
    "_uuid": "09ddc4eab14c3abc5d8a484a7b9125c5278cb1ce"
   },
   "source": [
    "# Get ready to take-off <a class=\"anchor\" id=\"takeoff\"></a>\n",
    "\n",
    "## 1. Prepare to start <a class=\"anchor\" id=\"load\"></a>"
   ]
  },
  {
   "cell_type": "code",
   "execution_count": 2,
   "metadata": {
    "_cell_guid": "b1076dfc-b9ad-4769-8c92-a6c4dae69d19",
    "_kg_hide-input": true,
    "_uuid": "8f2839f25d086af736a60e9eeb907d3b93b6e0e5"
   },
   "outputs": [],
   "source": [
    "import numpy as np \n",
    "import pandas as pd \n",
    "import matplotlib.pyplot as plt\n",
    "%matplotlib inline\n",
    "\n",
    "import seaborn as sns\n",
    "sns.set()\n",
    "\n",
    "from catboost import CatBoostRegressor, Pool, cv\n",
    "from catboost import MetricVisualizer\n",
    "\n",
    "from sklearn.model_selection import TimeSeriesSplit\n",
    "from sklearn.preprocessing import StandardScaler\n",
    "from sklearn.cluster import KMeans\n",
    "\n",
    "from scipy.stats import boxcox\n",
    "from os import listdir\n",
    "\n",
    "import warnings\n",
    "warnings.filterwarnings(\"ignore\", category=DeprecationWarning)\n",
    "warnings.filterwarnings(\"ignore\", category=UserWarning)\n",
    "warnings.filterwarnings(\"ignore\", category=RuntimeWarning)\n",
    "warnings.filterwarnings(\"ignore\", category=FutureWarning)\n"
   ]
  },
  {
   "cell_type": "code",
   "execution_count": 4,
   "metadata": {
    "_uuid": "8aacf6c421e22b849bcd676252b542cd3c7efd34"
   },
   "outputs": [
    {
     "name": "stdout",
     "output_type": "stream",
     "text": [
      "['data.csv']\n"
     ]
    }
   ],
   "source": [
    "print(listdir(r'C:\\Users\\5810521020\\Downloads\\data1'))"
   ]
  },
  {
   "cell_type": "code",
   "execution_count": 5,
   "metadata": {
    "_cell_guid": "79c7e3d0-c299-4dcb-8224-4455121ee9b0",
    "_uuid": "d629ff2d2480ee46fbb7e2d37f6b5fab8052498a"
   },
   "outputs": [
    {
     "data": {
      "text/plain": [
       "(541909, 8)"
      ]
     },
     "execution_count": 5,
     "metadata": {},
     "output_type": "execute_result"
    }
   ],
   "source": [
    "data = pd.read_csv(r'C:\\Users\\5810521020\\Downloads\\data1\\data.csv', encoding=\"ISO-8859-1\", dtype={'CustomerID': str})\n",
    "data.shape"
   ]
  },
  {
   "cell_type": "markdown",
   "metadata": {
    "_uuid": "59569bb10034b048029e3c3f9c219b10160121db"
   },
   "source": [
    "The data has 541909 entries and 8 variables."
   ]
  },
  {
   "cell_type": "markdown",
   "metadata": {
    "_uuid": "5090437916104b77541f6f61da04dd3e946beee9"
   },
   "source": [
    "## 2. Get familiar with the data <a class=\"anchor\" id=\"intro\"></a>"
   ]
  },
  {
   "cell_type": "code",
   "execution_count": 8,
   "metadata": {
    "_uuid": "68b22a4b3ffc12910c361f27298acb3099f5d384"
   },
   "outputs": [
    {
     "data": {
      "text/html": [
       "<div>\n",
       "<style scoped>\n",
       "    .dataframe tbody tr th:only-of-type {\n",
       "        vertical-align: middle;\n",
       "    }\n",
       "\n",
       "    .dataframe tbody tr th {\n",
       "        vertical-align: top;\n",
       "    }\n",
       "\n",
       "    .dataframe thead th {\n",
       "        text-align: right;\n",
       "    }\n",
       "</style>\n",
       "<table border=\"1\" class=\"dataframe\">\n",
       "  <thead>\n",
       "    <tr style=\"text-align: right;\">\n",
       "      <th></th>\n",
       "      <th>InvoiceNo</th>\n",
       "      <th>StockCode</th>\n",
       "      <th>Description</th>\n",
       "      <th>Quantity</th>\n",
       "      <th>InvoiceDate</th>\n",
       "      <th>UnitPrice</th>\n",
       "      <th>CustomerID</th>\n",
       "      <th>Country</th>\n",
       "    </tr>\n",
       "  </thead>\n",
       "  <tbody>\n",
       "    <tr>\n",
       "      <th>0</th>\n",
       "      <td>536365</td>\n",
       "      <td>85123A</td>\n",
       "      <td>WHITE HANGING HEART T-LIGHT HOLDER</td>\n",
       "      <td>6</td>\n",
       "      <td>12/1/2010 8:26</td>\n",
       "      <td>2.55</td>\n",
       "      <td>17850</td>\n",
       "      <td>United Kingdom</td>\n",
       "    </tr>\n",
       "    <tr>\n",
       "      <th>1</th>\n",
       "      <td>536365</td>\n",
       "      <td>71053</td>\n",
       "      <td>WHITE METAL LANTERN</td>\n",
       "      <td>6</td>\n",
       "      <td>12/1/2010 8:26</td>\n",
       "      <td>3.39</td>\n",
       "      <td>17850</td>\n",
       "      <td>United Kingdom</td>\n",
       "    </tr>\n",
       "    <tr>\n",
       "      <th>2</th>\n",
       "      <td>536365</td>\n",
       "      <td>84406B</td>\n",
       "      <td>CREAM CUPID HEARTS COAT HANGER</td>\n",
       "      <td>8</td>\n",
       "      <td>12/1/2010 8:26</td>\n",
       "      <td>2.75</td>\n",
       "      <td>17850</td>\n",
       "      <td>United Kingdom</td>\n",
       "    </tr>\n",
       "    <tr>\n",
       "      <th>3</th>\n",
       "      <td>536365</td>\n",
       "      <td>84029G</td>\n",
       "      <td>KNITTED UNION FLAG HOT WATER BOTTLE</td>\n",
       "      <td>6</td>\n",
       "      <td>12/1/2010 8:26</td>\n",
       "      <td>3.39</td>\n",
       "      <td>17850</td>\n",
       "      <td>United Kingdom</td>\n",
       "    </tr>\n",
       "    <tr>\n",
       "      <th>4</th>\n",
       "      <td>536365</td>\n",
       "      <td>84029E</td>\n",
       "      <td>RED WOOLLY HOTTIE WHITE HEART.</td>\n",
       "      <td>6</td>\n",
       "      <td>12/1/2010 8:26</td>\n",
       "      <td>3.39</td>\n",
       "      <td>17850</td>\n",
       "      <td>United Kingdom</td>\n",
       "    </tr>\n",
       "  </tbody>\n",
       "</table>\n",
       "</div>"
      ],
      "text/plain": [
       "  InvoiceNo StockCode                          Description  Quantity  \\\n",
       "0    536365    85123A   WHITE HANGING HEART T-LIGHT HOLDER         6   \n",
       "1    536365     71053                  WHITE METAL LANTERN         6   \n",
       "2    536365    84406B       CREAM CUPID HEARTS COAT HANGER         8   \n",
       "3    536365    84029G  KNITTED UNION FLAG HOT WATER BOTTLE         6   \n",
       "4    536365    84029E       RED WOOLLY HOTTIE WHITE HEART.         6   \n",
       "\n",
       "      InvoiceDate  UnitPrice CustomerID         Country  \n",
       "0  12/1/2010 8:26       2.55      17850  United Kingdom  \n",
       "1  12/1/2010 8:26       3.39      17850  United Kingdom  \n",
       "2  12/1/2010 8:26       2.75      17850  United Kingdom  \n",
       "3  12/1/2010 8:26       3.39      17850  United Kingdom  \n",
       "4  12/1/2010 8:26       3.39      17850  United Kingdom  "
      ]
     },
     "execution_count": 8,
     "metadata": {},
     "output_type": "execute_result"
    }
   ],
   "source": [
    "data.head()"
   ]
  },
  {
   "cell_type": "markdown",
   "metadata": {
    "_uuid": "40a683fd23fa33266c9c03ec310bf3be65414440"
   },
   "source": [
    "We can see that the datafile has information given for **each single transaction**. Take a look at the InvoiceNo and the CustomerID of the first entries. Here we can see that **one customer with ID 17850 of the United Kingdom made a single order that has the InvoideNo 536365**. The customer ordered **several products with different stockcodes, descriptions, unit prices and quantities**. In addition we can see that the InvoiceDate was the same for these products. "
   ]
  },
  {
   "cell_type": "markdown",
   "metadata": {
    "_uuid": "c837cfae25ec4d931576f376313ec5ab09629900"
   },
   "source": [
    "## 3. Get an initial feeling for the data by exploration <a class=\"anchor\" id=\"feeling\"></a>"
   ]
  },
  {
   "cell_type": "markdown",
   "metadata": {
    "_uuid": "6c0c9265d0926281234abe6a944e713c173a94ff"
   },
   "source": [
    "### Missing values <a class=\"anchor\" id=\"missing\"></a>"
   ]
  },
  {
   "cell_type": "markdown",
   "metadata": {
    "_uuid": "1b6f0e62b666139258755b6fb386c746f576e69e"
   },
   "source": [
    "How many % of missing values do we have for each feature?"
   ]
  },
  {
   "cell_type": "code",
   "execution_count": 9,
   "metadata": {
    "_kg_hide-input": true,
    "_uuid": "9f1bab5443da5d3c9c3353bbebbfdd3c61652f26"
   },
   "outputs": [
    {
     "data": {
      "text/plain": [
       "InvoiceNo       0.000000\n",
       "StockCode       0.000000\n",
       "Description     0.268311\n",
       "Quantity        0.000000\n",
       "InvoiceDate     0.000000\n",
       "UnitPrice       0.000000\n",
       "CustomerID     24.926694\n",
       "Country         0.000000\n",
       "dtype: float64"
      ]
     },
     "execution_count": 9,
     "metadata": {},
     "output_type": "execute_result"
    }
   ],
   "source": [
    "missing_percentage = data.isnull().sum() / data.shape[0] * 100\n",
    "missing_percentage"
   ]
  },
  {
   "cell_type": "markdown",
   "metadata": {
    "_uuid": "06eaf37dd9c751953f17a7193e28db7ad24fb2ac"
   },
   "source": [
    "Almost 25 % of the customers are unknown! That's very strange. In addition we have 0.2 % of missing descriptions. This looks dirty. Let's gain a further impression by considering some examples."
   ]
  },
  {
   "cell_type": "markdown",
   "metadata": {
    "_uuid": "fc631d85336928790fe01aa8890a604a48121bc3"
   },
   "source": [
    "**Missing descriptions**"
   ]
  },
  {
   "cell_type": "code",
   "execution_count": 10,
   "metadata": {
    "_kg_hide-input": true,
    "_uuid": "db37bf2dbce01ef23d91f83195356514c368326f"
   },
   "outputs": [
    {
     "data": {
      "text/html": [
       "<div>\n",
       "<style scoped>\n",
       "    .dataframe tbody tr th:only-of-type {\n",
       "        vertical-align: middle;\n",
       "    }\n",
       "\n",
       "    .dataframe tbody tr th {\n",
       "        vertical-align: top;\n",
       "    }\n",
       "\n",
       "    .dataframe thead th {\n",
       "        text-align: right;\n",
       "    }\n",
       "</style>\n",
       "<table border=\"1\" class=\"dataframe\">\n",
       "  <thead>\n",
       "    <tr style=\"text-align: right;\">\n",
       "      <th></th>\n",
       "      <th>InvoiceNo</th>\n",
       "      <th>StockCode</th>\n",
       "      <th>Description</th>\n",
       "      <th>Quantity</th>\n",
       "      <th>InvoiceDate</th>\n",
       "      <th>UnitPrice</th>\n",
       "      <th>CustomerID</th>\n",
       "      <th>Country</th>\n",
       "    </tr>\n",
       "  </thead>\n",
       "  <tbody>\n",
       "    <tr>\n",
       "      <th>622</th>\n",
       "      <td>536414</td>\n",
       "      <td>22139</td>\n",
       "      <td>NaN</td>\n",
       "      <td>56</td>\n",
       "      <td>12/1/2010 11:52</td>\n",
       "      <td>0.0</td>\n",
       "      <td>NaN</td>\n",
       "      <td>United Kingdom</td>\n",
       "    </tr>\n",
       "    <tr>\n",
       "      <th>1970</th>\n",
       "      <td>536545</td>\n",
       "      <td>21134</td>\n",
       "      <td>NaN</td>\n",
       "      <td>1</td>\n",
       "      <td>12/1/2010 14:32</td>\n",
       "      <td>0.0</td>\n",
       "      <td>NaN</td>\n",
       "      <td>United Kingdom</td>\n",
       "    </tr>\n",
       "    <tr>\n",
       "      <th>1971</th>\n",
       "      <td>536546</td>\n",
       "      <td>22145</td>\n",
       "      <td>NaN</td>\n",
       "      <td>1</td>\n",
       "      <td>12/1/2010 14:33</td>\n",
       "      <td>0.0</td>\n",
       "      <td>NaN</td>\n",
       "      <td>United Kingdom</td>\n",
       "    </tr>\n",
       "    <tr>\n",
       "      <th>1972</th>\n",
       "      <td>536547</td>\n",
       "      <td>37509</td>\n",
       "      <td>NaN</td>\n",
       "      <td>1</td>\n",
       "      <td>12/1/2010 14:33</td>\n",
       "      <td>0.0</td>\n",
       "      <td>NaN</td>\n",
       "      <td>United Kingdom</td>\n",
       "    </tr>\n",
       "    <tr>\n",
       "      <th>1987</th>\n",
       "      <td>536549</td>\n",
       "      <td>85226A</td>\n",
       "      <td>NaN</td>\n",
       "      <td>1</td>\n",
       "      <td>12/1/2010 14:34</td>\n",
       "      <td>0.0</td>\n",
       "      <td>NaN</td>\n",
       "      <td>United Kingdom</td>\n",
       "    </tr>\n",
       "  </tbody>\n",
       "</table>\n",
       "</div>"
      ],
      "text/plain": [
       "     InvoiceNo StockCode Description  Quantity      InvoiceDate  UnitPrice  \\\n",
       "622     536414     22139         NaN        56  12/1/2010 11:52        0.0   \n",
       "1970    536545     21134         NaN         1  12/1/2010 14:32        0.0   \n",
       "1971    536546     22145         NaN         1  12/1/2010 14:33        0.0   \n",
       "1972    536547     37509         NaN         1  12/1/2010 14:33        0.0   \n",
       "1987    536549    85226A         NaN         1  12/1/2010 14:34        0.0   \n",
       "\n",
       "     CustomerID         Country  \n",
       "622         NaN  United Kingdom  \n",
       "1970        NaN  United Kingdom  \n",
       "1971        NaN  United Kingdom  \n",
       "1972        NaN  United Kingdom  \n",
       "1987        NaN  United Kingdom  "
      ]
     },
     "execution_count": 10,
     "metadata": {},
     "output_type": "execute_result"
    }
   ],
   "source": [
    "data[data.Description.isnull()].head()"
   ]
  },
  {
   "cell_type": "markdown",
   "metadata": {
    "_uuid": "360d2a938d6fd499bcd73e5b3a5b696773fb6572"
   },
   "source": [
    "How often do we miss the customer as well?"
   ]
  },
  {
   "cell_type": "code",
   "execution_count": 11,
   "metadata": {
    "_kg_hide-input": true,
    "_uuid": "1a790ceb1c4405622477152173adcc2a60a49c6b"
   },
   "outputs": [
    {
     "data": {
      "text/plain": [
       "True    1454\n",
       "Name: CustomerID, dtype: int64"
      ]
     },
     "execution_count": 11,
     "metadata": {},
     "output_type": "execute_result"
    }
   ],
   "source": [
    "data[data.Description.isnull()].CustomerID.isnull().value_counts()"
   ]
  },
  {
   "cell_type": "markdown",
   "metadata": {
    "_uuid": "4e80f44081e91c7cad3c07d18bf123b80114dc03"
   },
   "source": [
    "And the unit price?"
   ]
  },
  {
   "cell_type": "code",
   "execution_count": 12,
   "metadata": {
    "_kg_hide-input": true,
    "_uuid": "b83b216c63d1579003d7ec238ff0de5b5d766f73"
   },
   "outputs": [
    {
     "data": {
      "text/plain": [
       "0.0    1454\n",
       "Name: UnitPrice, dtype: int64"
      ]
     },
     "execution_count": 12,
     "metadata": {},
     "output_type": "execute_result"
    }
   ],
   "source": [
    "data[data.Description.isnull()].UnitPrice.value_counts()"
   ]
  },
  {
   "cell_type": "markdown",
   "metadata": {
    "_uuid": "c91d397d07d77653370e3b30d3c24db9d9a41818"
   },
   "source": [
    "In **cases of missing descriptions we always miss the customer and the unit price as well**. Why does the retailer records such kind of entries without a further description? It seems that there is no sophisticated procedure how to deal with and record such kind of transactions. This is already a hint that **we could expect strange entries in our data and that it can be difficult to detect them**! "
   ]
  },
  {
   "cell_type": "markdown",
   "metadata": {
    "_uuid": "ec94248e383e3fc9cb064267200fc3de738c13c2"
   },
   "source": [
    "**Missing Customer IDs**"
   ]
  },
  {
   "cell_type": "code",
   "execution_count": 13,
   "metadata": {
    "_kg_hide-input": true,
    "_uuid": "62a43887af4a4996f7cbd5fc8d33f26d8a9c90d3"
   },
   "outputs": [
    {
     "data": {
      "text/html": [
       "<div>\n",
       "<style scoped>\n",
       "    .dataframe tbody tr th:only-of-type {\n",
       "        vertical-align: middle;\n",
       "    }\n",
       "\n",
       "    .dataframe tbody tr th {\n",
       "        vertical-align: top;\n",
       "    }\n",
       "\n",
       "    .dataframe thead th {\n",
       "        text-align: right;\n",
       "    }\n",
       "</style>\n",
       "<table border=\"1\" class=\"dataframe\">\n",
       "  <thead>\n",
       "    <tr style=\"text-align: right;\">\n",
       "      <th></th>\n",
       "      <th>InvoiceNo</th>\n",
       "      <th>StockCode</th>\n",
       "      <th>Description</th>\n",
       "      <th>Quantity</th>\n",
       "      <th>InvoiceDate</th>\n",
       "      <th>UnitPrice</th>\n",
       "      <th>CustomerID</th>\n",
       "      <th>Country</th>\n",
       "    </tr>\n",
       "  </thead>\n",
       "  <tbody>\n",
       "    <tr>\n",
       "      <th>622</th>\n",
       "      <td>536414</td>\n",
       "      <td>22139</td>\n",
       "      <td>NaN</td>\n",
       "      <td>56</td>\n",
       "      <td>12/1/2010 11:52</td>\n",
       "      <td>0.00</td>\n",
       "      <td>NaN</td>\n",
       "      <td>United Kingdom</td>\n",
       "    </tr>\n",
       "    <tr>\n",
       "      <th>1443</th>\n",
       "      <td>536544</td>\n",
       "      <td>21773</td>\n",
       "      <td>DECORATIVE ROSE BATHROOM BOTTLE</td>\n",
       "      <td>1</td>\n",
       "      <td>12/1/2010 14:32</td>\n",
       "      <td>2.51</td>\n",
       "      <td>NaN</td>\n",
       "      <td>United Kingdom</td>\n",
       "    </tr>\n",
       "    <tr>\n",
       "      <th>1444</th>\n",
       "      <td>536544</td>\n",
       "      <td>21774</td>\n",
       "      <td>DECORATIVE CATS BATHROOM BOTTLE</td>\n",
       "      <td>2</td>\n",
       "      <td>12/1/2010 14:32</td>\n",
       "      <td>2.51</td>\n",
       "      <td>NaN</td>\n",
       "      <td>United Kingdom</td>\n",
       "    </tr>\n",
       "    <tr>\n",
       "      <th>1445</th>\n",
       "      <td>536544</td>\n",
       "      <td>21786</td>\n",
       "      <td>POLKADOT RAIN HAT</td>\n",
       "      <td>4</td>\n",
       "      <td>12/1/2010 14:32</td>\n",
       "      <td>0.85</td>\n",
       "      <td>NaN</td>\n",
       "      <td>United Kingdom</td>\n",
       "    </tr>\n",
       "    <tr>\n",
       "      <th>1446</th>\n",
       "      <td>536544</td>\n",
       "      <td>21787</td>\n",
       "      <td>RAIN PONCHO RETROSPOT</td>\n",
       "      <td>2</td>\n",
       "      <td>12/1/2010 14:32</td>\n",
       "      <td>1.66</td>\n",
       "      <td>NaN</td>\n",
       "      <td>United Kingdom</td>\n",
       "    </tr>\n",
       "  </tbody>\n",
       "</table>\n",
       "</div>"
      ],
      "text/plain": [
       "     InvoiceNo StockCode                      Description  Quantity  \\\n",
       "622     536414     22139                              NaN        56   \n",
       "1443    536544     21773  DECORATIVE ROSE BATHROOM BOTTLE         1   \n",
       "1444    536544     21774  DECORATIVE CATS BATHROOM BOTTLE         2   \n",
       "1445    536544     21786               POLKADOT RAIN HAT          4   \n",
       "1446    536544     21787            RAIN PONCHO RETROSPOT         2   \n",
       "\n",
       "          InvoiceDate  UnitPrice CustomerID         Country  \n",
       "622   12/1/2010 11:52       0.00        NaN  United Kingdom  \n",
       "1443  12/1/2010 14:32       2.51        NaN  United Kingdom  \n",
       "1444  12/1/2010 14:32       2.51        NaN  United Kingdom  \n",
       "1445  12/1/2010 14:32       0.85        NaN  United Kingdom  \n",
       "1446  12/1/2010 14:32       1.66        NaN  United Kingdom  "
      ]
     },
     "execution_count": 13,
     "metadata": {},
     "output_type": "execute_result"
    }
   ],
   "source": [
    "data[data.CustomerID.isnull()].head()"
   ]
  },
  {
   "cell_type": "code",
   "execution_count": 14,
   "metadata": {
    "_kg_hide-input": true,
    "_uuid": "795794fb4f6cafda39123ba8b9522772196fdded"
   },
   "outputs": [
    {
     "data": {
      "text/html": [
       "<div>\n",
       "<style scoped>\n",
       "    .dataframe tbody tr th:only-of-type {\n",
       "        vertical-align: middle;\n",
       "    }\n",
       "\n",
       "    .dataframe tbody tr th {\n",
       "        vertical-align: top;\n",
       "    }\n",
       "\n",
       "    .dataframe thead th {\n",
       "        text-align: right;\n",
       "    }\n",
       "</style>\n",
       "<table border=\"1\" class=\"dataframe\">\n",
       "  <thead>\n",
       "    <tr style=\"text-align: right;\">\n",
       "      <th></th>\n",
       "      <th>UnitPrice</th>\n",
       "      <th>Quantity</th>\n",
       "    </tr>\n",
       "  </thead>\n",
       "  <tbody>\n",
       "    <tr>\n",
       "      <th>count</th>\n",
       "      <td>135080.000000</td>\n",
       "      <td>135080.000000</td>\n",
       "    </tr>\n",
       "    <tr>\n",
       "      <th>mean</th>\n",
       "      <td>8.076577</td>\n",
       "      <td>1.995573</td>\n",
       "    </tr>\n",
       "    <tr>\n",
       "      <th>std</th>\n",
       "      <td>151.900816</td>\n",
       "      <td>66.696153</td>\n",
       "    </tr>\n",
       "    <tr>\n",
       "      <th>min</th>\n",
       "      <td>-11062.060000</td>\n",
       "      <td>-9600.000000</td>\n",
       "    </tr>\n",
       "    <tr>\n",
       "      <th>25%</th>\n",
       "      <td>1.630000</td>\n",
       "      <td>1.000000</td>\n",
       "    </tr>\n",
       "    <tr>\n",
       "      <th>50%</th>\n",
       "      <td>3.290000</td>\n",
       "      <td>1.000000</td>\n",
       "    </tr>\n",
       "    <tr>\n",
       "      <th>75%</th>\n",
       "      <td>5.450000</td>\n",
       "      <td>3.000000</td>\n",
       "    </tr>\n",
       "    <tr>\n",
       "      <th>max</th>\n",
       "      <td>17836.460000</td>\n",
       "      <td>5568.000000</td>\n",
       "    </tr>\n",
       "  </tbody>\n",
       "</table>\n",
       "</div>"
      ],
      "text/plain": [
       "           UnitPrice       Quantity\n",
       "count  135080.000000  135080.000000\n",
       "mean        8.076577       1.995573\n",
       "std       151.900816      66.696153\n",
       "min    -11062.060000   -9600.000000\n",
       "25%         1.630000       1.000000\n",
       "50%         3.290000       1.000000\n",
       "75%         5.450000       3.000000\n",
       "max     17836.460000    5568.000000"
      ]
     },
     "execution_count": 14,
     "metadata": {},
     "output_type": "execute_result"
    }
   ],
   "source": [
    "data.loc[data.CustomerID.isnull(), [\"UnitPrice\", \"Quantity\"]].describe()"
   ]
  },
  {
   "cell_type": "markdown",
   "metadata": {
    "_uuid": "8627c279663d0bf55748940e7dfe72485880caa9"
   },
   "source": [
    "That's bad as well. **The price and the quantities of entries without a customer ID can show extreme outliers**. As we might want to create features later on that are based on historical prices and sold quantities, this is very disruptive. Our first **advice for the retailer is to setup strategies for transactions that are somehow faulty or special**. And the question remains: Why is it possible for a transaction to be without a customer ID. Perhaps you can purchase as a quest but then it would of a good and clean style to plugin a special ID that indicates that this one is a guest. Ok, next one: Do we have hidden nan-values in Descriptions? To find it out, let's create a new feature that hold descriptions in lowercase:"
   ]
  },
  {
   "cell_type": "markdown",
   "metadata": {
    "_uuid": "97c443239d13255d0122d15ada13fe55dcc6497d"
   },
   "source": [
    "**Hidden missing descriptions**\n",
    "\n",
    "Can we find \"nan\"-Strings?"
   ]
  },
  {
   "cell_type": "code",
   "execution_count": 21,
   "metadata": {
    "_kg_hide-input": true,
    "_uuid": "65ae85e9e93ca7d45cd5f0b397caab668bf40bed"
   },
   "outputs": [
    {
     "data": {
      "text/plain": [
       "False    539724\n",
       "True        731\n",
       "Name: lowercase_descriptions, dtype: int64"
      ]
     },
     "execution_count": 21,
     "metadata": {},
     "output_type": "execute_result"
    }
   ],
   "source": [
    "data.loc[data.Description.isnull()==False, \"lowercase_descriptions\"] = data.loc[\n",
    "    data.Description.isnull()==False,\"Description\"\n",
    "].apply(lambda l: l.lower())\n",
    "\n",
    "data.lowercase_descriptions.dropna().apply(\n",
    "    lambda l: np.where(\"nan\" in l, True, False)\n",
    ").value_counts()"
   ]
  },
  {
   "cell_type": "markdown",
   "metadata": {
    "_uuid": "bd90b9de258b21bbfd0234b0b2db0884637e2679"
   },
   "source": [
    "Can we find empty \"\"-strings?"
   ]
  },
  {
   "cell_type": "code",
   "execution_count": 19,
   "metadata": {
    "_kg_hide-input": true,
    "_uuid": "1307a95015ed0bbd541063fcea4ebeb495c7a096"
   },
   "outputs": [
    {
     "data": {
      "text/plain": [
       "False    540455\n",
       "Name: lowercase_descriptions, dtype: int64"
      ]
     },
     "execution_count": 19,
     "metadata": {},
     "output_type": "execute_result"
    }
   ],
   "source": [
    "data.lowercase_descriptions.dropna().apply(\n",
    "    lambda l: np.where(\"\" == l, True, False)\n",
    ").value_counts()"
   ]
  },
  {
   "cell_type": "markdown",
   "metadata": {
    "_uuid": "c0264c736174e02b6549f89a75f37ee671b94787"
   },
   "source": [
    "We found **additional, hidden nan-values that show a string \"nan\" instead of a nan-value**. Let's transform them to NaN: "
   ]
  },
  {
   "cell_type": "code",
   "execution_count": 22,
   "metadata": {
    "_kg_hide-input": true,
    "_uuid": "64e051cd38405e1ed2d8b64635092470e292803b"
   },
   "outputs": [],
   "source": [
    "data.loc[data.lowercase_descriptions.isnull()==False, \"lowercase_descriptions\"] = data.loc[\n",
    "    data.lowercase_descriptions.isnull()==False, \"lowercase_descriptions\"\n",
    "].apply(lambda l: np.where(\"nan\"in l, None, l))"
   ]
  },
  {
   "cell_type": "markdown",
   "metadata": {
    "_uuid": "b8131bc49a69f8b581b50bc154dd42141a052c27"
   },
   "source": [
    "As we don't know why customers or descriptions are missing and we have seen strange outliers in quantities and prices as well as zero-prices, **let's play safe and drop all of these occurences**."
   ]
  },
  {
   "cell_type": "code",
   "execution_count": 23,
   "metadata": {
    "_uuid": "b8ddb9cb28ce0a1cd9462ec8074c3876dba439f5"
   },
   "outputs": [],
   "source": [
    "data = data.loc[(data.CustomerID.isnull()==False) & (data.lowercase_descriptions.isnull()==False)].copy()"
   ]
  },
  {
   "cell_type": "markdown",
   "metadata": {
    "_uuid": "bb5f30e9270d824b5c14e8fc724fe6663015d7bc"
   },
   "source": [
    "Just to be sure: Is there a missing value left?"
   ]
  },
  {
   "cell_type": "code",
   "execution_count": 24,
   "metadata": {
    "_uuid": "84da563b03452b273cc92350b60ed19e71788605"
   },
   "outputs": [
    {
     "data": {
      "text/plain": [
       "0"
      ]
     },
     "execution_count": 24,
     "metadata": {},
     "output_type": "execute_result"
    }
   ],
   "source": [
    "data.isnull().sum().sum()"
   ]
  },
  {
   "cell_type": "markdown",
   "metadata": {
    "_uuid": "d1d1cd2311459c9c9178cc6370648b90e4cbeeaf"
   },
   "source": [
    "### The Time period <a class=\"anchor\" id=\"timeperiod\"></a>\n",
    "\n",
    "How long is the period in days?"
   ]
  },
  {
   "cell_type": "code",
   "execution_count": 28,
   "metadata": {},
   "outputs": [
    {
     "data": {
      "text/html": [
       "<div>\n",
       "<style scoped>\n",
       "    .dataframe tbody tr th:only-of-type {\n",
       "        vertical-align: middle;\n",
       "    }\n",
       "\n",
       "    .dataframe tbody tr th {\n",
       "        vertical-align: top;\n",
       "    }\n",
       "\n",
       "    .dataframe thead th {\n",
       "        text-align: right;\n",
       "    }\n",
       "</style>\n",
       "<table border=\"1\" class=\"dataframe\">\n",
       "  <thead>\n",
       "    <tr style=\"text-align: right;\">\n",
       "      <th></th>\n",
       "      <th>InvoiceNo</th>\n",
       "      <th>StockCode</th>\n",
       "      <th>Description</th>\n",
       "      <th>Quantity</th>\n",
       "      <th>InvoiceDate</th>\n",
       "      <th>UnitPrice</th>\n",
       "      <th>CustomerID</th>\n",
       "      <th>Country</th>\n",
       "      <th>lowercase_descriptions</th>\n",
       "    </tr>\n",
       "  </thead>\n",
       "  <tbody>\n",
       "    <tr>\n",
       "      <th>0</th>\n",
       "      <td>536365</td>\n",
       "      <td>85123A</td>\n",
       "      <td>WHITE HANGING HEART T-LIGHT HOLDER</td>\n",
       "      <td>6</td>\n",
       "      <td>2010-12-01 08:26:00</td>\n",
       "      <td>2.55</td>\n",
       "      <td>17850</td>\n",
       "      <td>United Kingdom</td>\n",
       "      <td>white hanging heart t-light holder</td>\n",
       "    </tr>\n",
       "    <tr>\n",
       "      <th>1</th>\n",
       "      <td>536365</td>\n",
       "      <td>71053</td>\n",
       "      <td>WHITE METAL LANTERN</td>\n",
       "      <td>6</td>\n",
       "      <td>2010-12-01 08:26:00</td>\n",
       "      <td>3.39</td>\n",
       "      <td>17850</td>\n",
       "      <td>United Kingdom</td>\n",
       "      <td>white metal lantern</td>\n",
       "    </tr>\n",
       "    <tr>\n",
       "      <th>2</th>\n",
       "      <td>536365</td>\n",
       "      <td>84406B</td>\n",
       "      <td>CREAM CUPID HEARTS COAT HANGER</td>\n",
       "      <td>8</td>\n",
       "      <td>2010-12-01 08:26:00</td>\n",
       "      <td>2.75</td>\n",
       "      <td>17850</td>\n",
       "      <td>United Kingdom</td>\n",
       "      <td>cream cupid hearts coat hanger</td>\n",
       "    </tr>\n",
       "    <tr>\n",
       "      <th>3</th>\n",
       "      <td>536365</td>\n",
       "      <td>84029G</td>\n",
       "      <td>KNITTED UNION FLAG HOT WATER BOTTLE</td>\n",
       "      <td>6</td>\n",
       "      <td>2010-12-01 08:26:00</td>\n",
       "      <td>3.39</td>\n",
       "      <td>17850</td>\n",
       "      <td>United Kingdom</td>\n",
       "      <td>knitted union flag hot water bottle</td>\n",
       "    </tr>\n",
       "    <tr>\n",
       "      <th>4</th>\n",
       "      <td>536365</td>\n",
       "      <td>84029E</td>\n",
       "      <td>RED WOOLLY HOTTIE WHITE HEART.</td>\n",
       "      <td>6</td>\n",
       "      <td>2010-12-01 08:26:00</td>\n",
       "      <td>3.39</td>\n",
       "      <td>17850</td>\n",
       "      <td>United Kingdom</td>\n",
       "      <td>red woolly hottie white heart.</td>\n",
       "    </tr>\n",
       "    <tr>\n",
       "      <th>...</th>\n",
       "      <td>...</td>\n",
       "      <td>...</td>\n",
       "      <td>...</td>\n",
       "      <td>...</td>\n",
       "      <td>...</td>\n",
       "      <td>...</td>\n",
       "      <td>...</td>\n",
       "      <td>...</td>\n",
       "      <td>...</td>\n",
       "    </tr>\n",
       "    <tr>\n",
       "      <th>541904</th>\n",
       "      <td>581587</td>\n",
       "      <td>22613</td>\n",
       "      <td>PACK OF 20 SPACEBOY NAPKINS</td>\n",
       "      <td>12</td>\n",
       "      <td>2011-12-09 12:50:00</td>\n",
       "      <td>0.85</td>\n",
       "      <td>12680</td>\n",
       "      <td>France</td>\n",
       "      <td>pack of 20 spaceboy napkins</td>\n",
       "    </tr>\n",
       "    <tr>\n",
       "      <th>541905</th>\n",
       "      <td>581587</td>\n",
       "      <td>22899</td>\n",
       "      <td>CHILDREN'S APRON DOLLY GIRL</td>\n",
       "      <td>6</td>\n",
       "      <td>2011-12-09 12:50:00</td>\n",
       "      <td>2.10</td>\n",
       "      <td>12680</td>\n",
       "      <td>France</td>\n",
       "      <td>children's apron dolly girl</td>\n",
       "    </tr>\n",
       "    <tr>\n",
       "      <th>541906</th>\n",
       "      <td>581587</td>\n",
       "      <td>23254</td>\n",
       "      <td>CHILDRENS CUTLERY DOLLY GIRL</td>\n",
       "      <td>4</td>\n",
       "      <td>2011-12-09 12:50:00</td>\n",
       "      <td>4.15</td>\n",
       "      <td>12680</td>\n",
       "      <td>France</td>\n",
       "      <td>childrens cutlery dolly girl</td>\n",
       "    </tr>\n",
       "    <tr>\n",
       "      <th>541907</th>\n",
       "      <td>581587</td>\n",
       "      <td>23255</td>\n",
       "      <td>CHILDRENS CUTLERY CIRCUS PARADE</td>\n",
       "      <td>4</td>\n",
       "      <td>2011-12-09 12:50:00</td>\n",
       "      <td>4.15</td>\n",
       "      <td>12680</td>\n",
       "      <td>France</td>\n",
       "      <td>childrens cutlery circus parade</td>\n",
       "    </tr>\n",
       "    <tr>\n",
       "      <th>541908</th>\n",
       "      <td>581587</td>\n",
       "      <td>22138</td>\n",
       "      <td>BAKING SET 9 PIECE RETROSPOT</td>\n",
       "      <td>3</td>\n",
       "      <td>2011-12-09 12:50:00</td>\n",
       "      <td>4.95</td>\n",
       "      <td>12680</td>\n",
       "      <td>France</td>\n",
       "      <td>baking set 9 piece retrospot</td>\n",
       "    </tr>\n",
       "  </tbody>\n",
       "</table>\n",
       "<p>406223 rows × 9 columns</p>\n",
       "</div>"
      ],
      "text/plain": [
       "       InvoiceNo StockCode                          Description  Quantity  \\\n",
       "0         536365    85123A   WHITE HANGING HEART T-LIGHT HOLDER         6   \n",
       "1         536365     71053                  WHITE METAL LANTERN         6   \n",
       "2         536365    84406B       CREAM CUPID HEARTS COAT HANGER         8   \n",
       "3         536365    84029G  KNITTED UNION FLAG HOT WATER BOTTLE         6   \n",
       "4         536365    84029E       RED WOOLLY HOTTIE WHITE HEART.         6   \n",
       "...          ...       ...                                  ...       ...   \n",
       "541904    581587     22613          PACK OF 20 SPACEBOY NAPKINS        12   \n",
       "541905    581587     22899         CHILDREN'S APRON DOLLY GIRL          6   \n",
       "541906    581587     23254        CHILDRENS CUTLERY DOLLY GIRL          4   \n",
       "541907    581587     23255      CHILDRENS CUTLERY CIRCUS PARADE         4   \n",
       "541908    581587     22138        BAKING SET 9 PIECE RETROSPOT          3   \n",
       "\n",
       "               InvoiceDate  UnitPrice CustomerID         Country  \\\n",
       "0      2010-12-01 08:26:00       2.55      17850  United Kingdom   \n",
       "1      2010-12-01 08:26:00       3.39      17850  United Kingdom   \n",
       "2      2010-12-01 08:26:00       2.75      17850  United Kingdom   \n",
       "3      2010-12-01 08:26:00       3.39      17850  United Kingdom   \n",
       "4      2010-12-01 08:26:00       3.39      17850  United Kingdom   \n",
       "...                    ...        ...        ...             ...   \n",
       "541904 2011-12-09 12:50:00       0.85      12680          France   \n",
       "541905 2011-12-09 12:50:00       2.10      12680          France   \n",
       "541906 2011-12-09 12:50:00       4.15      12680          France   \n",
       "541907 2011-12-09 12:50:00       4.15      12680          France   \n",
       "541908 2011-12-09 12:50:00       4.95      12680          France   \n",
       "\n",
       "                     lowercase_descriptions  \n",
       "0        white hanging heart t-light holder  \n",
       "1                       white metal lantern  \n",
       "2            cream cupid hearts coat hanger  \n",
       "3       knitted union flag hot water bottle  \n",
       "4            red woolly hottie white heart.  \n",
       "...                                     ...  \n",
       "541904          pack of 20 spaceboy napkins  \n",
       "541905         children's apron dolly girl   \n",
       "541906        childrens cutlery dolly girl   \n",
       "541907      childrens cutlery circus parade  \n",
       "541908        baking set 9 piece retrospot   \n",
       "\n",
       "[406223 rows x 9 columns]"
      ]
     },
     "execution_count": 28,
     "metadata": {},
     "output_type": "execute_result"
    }
   ],
   "source": [
    "data"
   ]
  },
  {
   "cell_type": "code",
   "execution_count": 20,
   "metadata": {
    "_kg_hide-input": true,
    "_uuid": "d4e59bd0fc10b17ff242961061f87d59ccdde910"
   },
   "outputs": [
    {
     "data": {
      "text/plain": [
       "Timedelta('373 days 04:24:00')"
      ]
     },
     "execution_count": 20,
     "metadata": {},
     "output_type": "execute_result"
    }
   ],
   "source": [
    "data[\"InvoiceDate\"] = pd.to_datetime(data.InvoiceDate, cache=True)\n",
    "\n",
    "data.InvoiceDate.max() - data.InvoiceDate.min()"
   ]
  },
  {
   "cell_type": "code",
   "execution_count": 26,
   "metadata": {
    "_kg_hide-input": true,
    "_uuid": "bd5c145d3f3e47054284d01efa6e763782061456"
   },
   "outputs": [
    {
     "name": "stdout",
     "output_type": "stream",
     "text": [
      "Datafile starts with timepoint 2010-12-01 08:26:00\n",
      "Datafile ends with timepoint 2011-12-09 12:50:00\n"
     ]
    }
   ],
   "source": [
    "print(\"Datafile starts with timepoint {}\".format(data.InvoiceDate.min()))\n",
    "print(\"Datafile ends with timepoint {}\".format(data.InvoiceDate.max()))"
   ]
  },
  {
   "cell_type": "markdown",
   "metadata": {
    "_uuid": "a3d3b486d86e1f03146ce05a253210846424297f"
   },
   "source": [
    "### The invoice number <a class=\"anchor\" id=\"invoiceno\"></a>"
   ]
  },
  {
   "cell_type": "markdown",
   "metadata": {
    "_uuid": "aeb39a08dca7f726f4747f8dc619f6464d4d3d15"
   },
   "source": [
    "How many different invoice numbers do we have?"
   ]
  },
  {
   "cell_type": "code",
   "execution_count": 27,
   "metadata": {
    "_kg_hide-input": true,
    "_uuid": "1646d8909cf716d0b9e23d6bef3526532e6eac29"
   },
   "outputs": [
    {
     "data": {
      "text/plain": [
       "22186"
      ]
     },
     "execution_count": 27,
     "metadata": {},
     "output_type": "execute_result"
    }
   ],
   "source": [
    "data.InvoiceNo.nunique()"
   ]
  },
  {
   "cell_type": "markdown",
   "metadata": {
    "_uuid": "8b3960292819a759ff53f970af8c1a6c09fd10ca"
   },
   "source": [
    "In the data description we can find that a cancelled transactions starts with a \"C\" in front of it. Let's create a feature to easily filter out these cases:"
   ]
  },
  {
   "cell_type": "code",
   "execution_count": 29,
   "metadata": {
    "_kg_hide-input": true,
    "_uuid": "6cfd91920ad3b5368e3efe9dca23aad6f04849e9"
   },
   "outputs": [
    {
     "data": {
      "text/plain": [
       "False    97.81007\n",
       "True      2.18993\n",
       "Name: IsCancelled, dtype: float64"
      ]
     },
     "execution_count": 29,
     "metadata": {},
     "output_type": "execute_result"
    }
   ],
   "source": [
    "data[\"IsCancelled\"]=np.where(data.InvoiceNo.apply(lambda l: l[0]==\"C\"), True, False)\n",
    "data.IsCancelled.value_counts() / data.shape[0] * 100"
   ]
  },
  {
   "cell_type": "markdown",
   "metadata": {
    "_uuid": "d20134f92312f536c2844140524309d3138cf071"
   },
   "source": [
    "2,2 % of all entries are cancellations.  "
   ]
  },
  {
   "cell_type": "code",
   "execution_count": 30,
   "metadata": {},
   "outputs": [
    {
     "data": {
      "text/plain": [
       "0         False\n",
       "1         False\n",
       "2         False\n",
       "3         False\n",
       "4         False\n",
       "          ...  \n",
       "541904    False\n",
       "541905    False\n",
       "541906    False\n",
       "541907    False\n",
       "541908    False\n",
       "Name: IsCancelled, Length: 406223, dtype: bool"
      ]
     },
     "execution_count": 30,
     "metadata": {},
     "output_type": "execute_result"
    }
   ],
   "source": [
    "data.IsCancelled==True"
   ]
  },
  {
   "cell_type": "code",
   "execution_count": 31,
   "metadata": {
    "_kg_hide-input": true,
    "_uuid": "ec5301c8108105190cdc569cfd688d105ec6271f"
   },
   "outputs": [
    {
     "data": {
      "text/html": [
       "<div>\n",
       "<style scoped>\n",
       "    .dataframe tbody tr th:only-of-type {\n",
       "        vertical-align: middle;\n",
       "    }\n",
       "\n",
       "    .dataframe tbody tr th {\n",
       "        vertical-align: top;\n",
       "    }\n",
       "\n",
       "    .dataframe thead th {\n",
       "        text-align: right;\n",
       "    }\n",
       "</style>\n",
       "<table border=\"1\" class=\"dataframe\">\n",
       "  <thead>\n",
       "    <tr style=\"text-align: right;\">\n",
       "      <th></th>\n",
       "      <th>Quantity</th>\n",
       "      <th>UnitPrice</th>\n",
       "    </tr>\n",
       "  </thead>\n",
       "  <tbody>\n",
       "    <tr>\n",
       "      <th>count</th>\n",
       "      <td>8896.000000</td>\n",
       "      <td>8896.000000</td>\n",
       "    </tr>\n",
       "    <tr>\n",
       "      <th>mean</th>\n",
       "      <td>-30.882981</td>\n",
       "      <td>18.862815</td>\n",
       "    </tr>\n",
       "    <tr>\n",
       "      <th>std</th>\n",
       "      <td>1170.746458</td>\n",
       "      <td>444.590459</td>\n",
       "    </tr>\n",
       "    <tr>\n",
       "      <th>min</th>\n",
       "      <td>-80995.000000</td>\n",
       "      <td>0.010000</td>\n",
       "    </tr>\n",
       "    <tr>\n",
       "      <th>25%</th>\n",
       "      <td>-6.000000</td>\n",
       "      <td>1.450000</td>\n",
       "    </tr>\n",
       "    <tr>\n",
       "      <th>50%</th>\n",
       "      <td>-2.000000</td>\n",
       "      <td>2.950000</td>\n",
       "    </tr>\n",
       "    <tr>\n",
       "      <th>75%</th>\n",
       "      <td>-1.000000</td>\n",
       "      <td>4.950000</td>\n",
       "    </tr>\n",
       "    <tr>\n",
       "      <th>max</th>\n",
       "      <td>-1.000000</td>\n",
       "      <td>38970.000000</td>\n",
       "    </tr>\n",
       "  </tbody>\n",
       "</table>\n",
       "</div>"
      ],
      "text/plain": [
       "           Quantity     UnitPrice\n",
       "count   8896.000000   8896.000000\n",
       "mean     -30.882981     18.862815\n",
       "std     1170.746458    444.590459\n",
       "min   -80995.000000      0.010000\n",
       "25%       -6.000000      1.450000\n",
       "50%       -2.000000      2.950000\n",
       "75%       -1.000000      4.950000\n",
       "max       -1.000000  38970.000000"
      ]
     },
     "execution_count": 31,
     "metadata": {},
     "output_type": "execute_result"
    }
   ],
   "source": [
    "data.loc[data.IsCancelled==True].describe()"
   ]
  },
  {
   "cell_type": "markdown",
   "metadata": {
    "_uuid": "b9219b76b6abc0b045cc0b212cc83d29f44e9d27"
   },
   "source": [
    "**All cancellations have negative quantites but positive, non-zero unit prices**. Given this data we are not easily able to understand why a customer made a return and it's very difficult to predict such cases as there could be several, hidden reasons why a cancellation was done. Let's drop them:"
   ]
  },
  {
   "cell_type": "code",
   "execution_count": 32,
   "metadata": {
    "_uuid": "793f70e24671ad73b12b1a6f5efa8d22df5ad51c"
   },
   "outputs": [],
   "source": [
    "data = data.loc[data.IsCancelled==False].copy()\n",
    "data = data.drop(\"IsCancelled\", axis=1)"
   ]
  },
  {
   "cell_type": "markdown",
   "metadata": {
    "_uuid": "d2d042899746b22b74c1ebdb3baa5e623ee82833"
   },
   "source": [
    "### Stockcodes <a class=\"anchor\" id=\"stockcodes\"></a>"
   ]
  },
  {
   "cell_type": "markdown",
   "metadata": {
    "_uuid": "8cf8fd461be54e74d0ebf4118b559e48c8768907"
   },
   "source": [
    "How many unique stockcodes do we have?"
   ]
  },
  {
   "cell_type": "code",
   "execution_count": 33,
   "metadata": {
    "_uuid": "927df28201cfb605074752e04bcbc48fde2fc100"
   },
   "outputs": [
    {
     "data": {
      "text/plain": [
       "3663"
      ]
     },
     "execution_count": 33,
     "metadata": {},
     "output_type": "execute_result"
    }
   ],
   "source": [
    "data.StockCode.nunique()"
   ]
  },
  {
   "cell_type": "markdown",
   "metadata": {
    "_uuid": "392e40c10095d657f27fb591abc09db34a3546aa"
   },
   "source": [
    "Which codes are most common?"
   ]
  },
  {
   "cell_type": "code",
   "execution_count": 34,
   "metadata": {
    "_kg_hide-input": true,
    "_uuid": "02de04792f9988a664f2fa30d8a5a2c8fa903d06"
   },
   "outputs": [
    {
     "data": {
      "image/png": "[encoded data removed]",
      "text/plain": [
       "<Figure size 1440x1080 with 2 Axes>"
      ]
     },
     "metadata": {},
     "output_type": "display_data"
    }
   ],
   "source": [
    "stockcode_counts = data.StockCode.value_counts().sort_values(ascending=False)\n",
    "fig, ax = plt.subplots(2,1,figsize=(20,15))\n",
    "sns.barplot(stockcode_counts.iloc[0:20].index,\n",
    "            stockcode_counts.iloc[0:20].values,\n",
    "            ax = ax[0], palette=\"Oranges_r\")\n",
    "ax[0].set_ylabel(\"Counts\")\n",
    "ax[0].set_xlabel(\"Stockcode\")\n",
    "ax[0].set_title(\"Which stockcodes are most common?\");\n",
    "sns.distplot(np.round(stockcode_counts/data.shape[0]*100,2),\n",
    "             kde=False,\n",
    "             bins=20,\n",
    "             ax=ax[1], color=\"Orange\")\n",
    "ax[1].set_title(\"How seldom are stockcodes?\")\n",
    "ax[1].set_xlabel(\"% of data with this stockcode\")\n",
    "ax[1].set_ylabel(\"Frequency\");"
   ]
  },
  {
   "cell_type": "markdown",
   "metadata": {
    "_uuid": "6943c79933138f4e5119b77a866f48dab67122bc"
   },
   "source": [
    "* Do you the the **POST** in the most common stockcode counts?! **That's a strange one!** Hence we could expect strange occurences not only in the descriptions and customerIDs but also in the stockcode. OHOHOH! It's code is shorter than the others as well as not numeric. \n",
    "* Most stockcodes are very seldom. This indicates that the **retailer sells many different products** and that there is no strong secialization of a specific stockcode. Nevertheless we have to be careful as this must not mean that the retailer is not specialized given a specific product type. The stockcode could be a very detailed indicator that does not yield information of the type, for example water bottles may have very different variants in color, name and shapes but they are all water bottles.  "
   ]
  },
  {
   "cell_type": "markdown",
   "metadata": {
    "_uuid": "88bd7d6dc706e5f262f47760ea5912f1af304989"
   },
   "source": [
    "Let's count the number of numeric chars in and the length of the stockcode:"
   ]
  },
  {
   "cell_type": "code",
   "execution_count": 35,
   "metadata": {
    "_uuid": "bf11ac67839e77d3d0e42fa04fdc4a644c208789"
   },
   "outputs": [],
   "source": [
    "def count_numeric_chars(l):\n",
    "    return sum(1 for c in l if c.isdigit())\n",
    "\n",
    "data[\"StockCodeLength\"] = data.StockCode.apply(lambda l: len(l))\n",
    "data[\"nNumericStockCode\"] = data.StockCode.apply(lambda l: count_numeric_chars(l))"
   ]
  },
  {
   "cell_type": "code",
   "execution_count": 36,
   "metadata": {
    "_uuid": "86a0d1d0f8f044ca416f90913aa190add7944429"
   },
   "outputs": [
    {
     "data": {
      "image/png": "[encoded data removed]",
      "text/plain": [
       "<Figure size 1440x360 with 2 Axes>"
      ]
     },
     "metadata": {},
     "output_type": "display_data"
    }
   ],
   "source": [
    "fig, ax = plt.subplots(1,2,figsize=(20,5))\n",
    "sns.countplot(data[\"StockCodeLength\"], palette=\"Oranges_r\", ax=ax[0])\n",
    "sns.countplot(data[\"nNumericStockCode\"], palette=\"Oranges_r\", ax=ax[1])\n",
    "ax[0].set_xlabel(\"Length of stockcode\")\n",
    "ax[1].set_xlabel(\"Number of numeric chars in the stockcode\");"
   ]
  },
  {
   "cell_type": "markdown",
   "metadata": {
    "_uuid": "70ac87ce1e94f5ead0f210abc6035bf974e637c1"
   },
   "source": [
    "Even though the majority of samples has a stockcode that consists of 5 numeric chars, we can see that there are other occurences as well. The length can vary between 1 and 12 and there are stockcodes with no numeric chars at all!"
   ]
  },
  {
   "cell_type": "code",
   "execution_count": 37,
   "metadata": {
    "_uuid": "7c47e40db4382bdcaa02594d3f3cd20ea930d28a"
   },
   "outputs": [
    {
     "data": {
      "text/plain": [
       "postage                       1099\n",
       "manual                         290\n",
       "carriage                       133\n",
       "dotcom postage                  16\n",
       "bank charges                    12\n",
       "pads to match all cushions       4\n",
       "Name: lowercase_descriptions, dtype: int64"
      ]
     },
     "execution_count": 37,
     "metadata": {},
     "output_type": "execute_result"
    }
   ],
   "source": [
    "data.loc[data.nNumericStockCode < 5].lowercase_descriptions.value_counts()"
   ]
  },
  {
   "cell_type": "markdown",
   "metadata": {
    "_uuid": "8b5cf7d8df6131783a1a92a3cd0d6117e5a3c324"
   },
   "source": [
    "Ihh, again something that we don't want to predict. Again this indicates that the retailer does not speparate well between special kind of transactions and valid customer-retailer transactions. Let's drop all of these occurences:"
   ]
  },
  {
   "cell_type": "code",
   "execution_count": 38,
   "metadata": {
    "_uuid": "b0d14baad89a37bf56ca674f76145e1c02109556"
   },
   "outputs": [
    {
     "data": {
      "text/plain": [
       "2783"
      ]
     },
     "execution_count": 38,
     "metadata": {},
     "output_type": "execute_result"
    }
   ],
   "source": [
    "data = data.loc[(data.nNumericStockCode == 5) & (data.StockCodeLength==5)].copy()\n",
    "data.StockCode.nunique()"
   ]
  },
  {
   "cell_type": "code",
   "execution_count": 39,
   "metadata": {
    "_uuid": "6ef83c0e6629f6f3db8e84b4cef71078150382f7"
   },
   "outputs": [],
   "source": [
    "data = data.drop([\"nNumericStockCode\", \"StockCodeLength\"], axis=1)"
   ]
  },
  {
   "cell_type": "markdown",
   "metadata": {
    "_uuid": "93419e0448bdc31e940df0d13388c19f99fc242a"
   },
   "source": [
    "### Descriptions <a class=\"anchor\" id=\"descriptions\"></a>\n",
    "\n",
    "How many unique descriptions do we have?"
   ]
  },
  {
   "cell_type": "code",
   "execution_count": 40,
   "metadata": {
    "_uuid": "d203ebf96967af5cd5d46720a984c81357ebe08c"
   },
   "outputs": [
    {
     "data": {
      "text/plain": [
       "2983"
      ]
     },
     "execution_count": 40,
     "metadata": {},
     "output_type": "execute_result"
    }
   ],
   "source": [
    "data.Description.nunique()"
   ]
  },
  {
   "cell_type": "markdown",
   "metadata": {
    "_uuid": "4f4f4aeb407815bd39b67130ef0c61994aed104e"
   },
   "source": [
    "And which are most common?"
   ]
  },
  {
   "cell_type": "code",
   "execution_count": 41,
   "metadata": {
    "_kg_hide-input": true,
    "_uuid": "c330d3a70e7ab7174c786ced7ee08bed45afc19e"
   },
   "outputs": [
    {
     "data": {
      "image/png": "[encoded data removed]",
      "text/plain": [
       "<Figure size 1440x360 with 1 Axes>"
      ]
     },
     "metadata": {},
     "output_type": "display_data"
    }
   ],
   "source": [
    "description_counts = data.Description.value_counts().sort_values(ascending=False).iloc[0:30]\n",
    "plt.figure(figsize=(20,5))\n",
    "sns.barplot(description_counts.index, description_counts.values, palette=\"Purples_r\")\n",
    "plt.ylabel(\"Counts\")\n",
    "plt.title(\"Which product descriptions are most common?\");\n",
    "plt.xticks(rotation=90);"
   ]
  },
  {
   "cell_type": "markdown",
   "metadata": {
    "_uuid": "bab31418e24e91ff37b34c85785e63f972e2f1d0"
   },
   "source": [
    "Ok, we can see that **some descriptions correspond to a similar product type**. Do you see the multiple occurences of lunch bags? We often have **color information about the product** as well. Furthermore the most common descriptions seem to confirm that **the retailer sells various different kinds of products**. All descriptions seem to consist of **uppercase chars**. Ok, now let's do some addtional analysis on the descriptions by counting the length and the number of lowercase chars. "
   ]
  },
  {
   "cell_type": "code",
   "execution_count": 42,
   "metadata": {
    "_kg_hide-input": true,
    "_uuid": "3548d93d872c911e143077fca776af343c101b15"
   },
   "outputs": [],
   "source": [
    "def count_lower_chars(l):\n",
    "    return sum(1 for c in l if c.islower())"
   ]
  },
  {
   "cell_type": "code",
   "execution_count": 43,
   "metadata": {
    "_uuid": "6920fe44fa6044aab22cc1973d1f087a6177e125"
   },
   "outputs": [],
   "source": [
    "data[\"DescriptionLength\"] = data.Description.apply(lambda l: len(l))\n",
    "data[\"LowCharsInDescription\"] = data.Description.apply(lambda l: count_lower_chars(l))"
   ]
  },
  {
   "cell_type": "code",
   "execution_count": 44,
   "metadata": {
    "_kg_hide-input": true,
    "_uuid": "574a7f49c71ed0c805c4e6fac7cee2f84961136c"
   },
   "outputs": [
    {
     "data": {
      "image/png": "[encoded data removed]",
      "text/plain": [
       "<Figure size 1440x360 with 2 Axes>"
      ]
     },
     "metadata": {},
     "output_type": "display_data"
    }
   ],
   "source": [
    "fig, ax = plt.subplots(1,2,figsize=(20,5))\n",
    "sns.countplot(data.DescriptionLength, ax=ax[0], color=\"Purple\")\n",
    "sns.countplot(data.LowCharsInDescription, ax=ax[1], color=\"Purple\")\n",
    "ax[1].set_yscale(\"log\")"
   ]
  },
  {
   "cell_type": "markdown",
   "metadata": {
    "_uuid": "6c625ba023fcfc1c59937e4ac91c184a207bdc51"
   },
   "source": [
    "Oh, great! **Almost all descriptions do not have a lowercase chars, but we have found exceptional cases!**"
   ]
  },
  {
   "cell_type": "code",
   "execution_count": 45,
   "metadata": {
    "_kg_hide-input": true,
    "_uuid": "8d15fc8c0335d111bfcd65100a9859d49eb62c20"
   },
   "outputs": [
    {
     "data": {
      "image/png": "[encoded data removed]",
      "text/plain": [
       "<Figure size 1080x216 with 1 Axes>"
      ]
     },
     "metadata": {},
     "output_type": "display_data"
    }
   ],
   "source": [
    "lowchar_counts = data.loc[data.LowCharsInDescription > 0].Description.value_counts()\n",
    "\n",
    "plt.figure(figsize=(15,3))\n",
    "sns.barplot(lowchar_counts.index, lowchar_counts.values, palette=\"Purples_r\")\n",
    "plt.xticks(rotation=90);"
   ]
  },
  {
   "cell_type": "markdown",
   "metadata": {
    "_uuid": "9439067661d4fe532bb1050b008e5f46e57b6d9f"
   },
   "source": [
    "**Next day carriage and high resolution image are strange!** Let's compute the fraction of lower with respect to uppercase letters:"
   ]
  },
  {
   "cell_type": "code",
   "execution_count": 46,
   "metadata": {
    "_uuid": "3d345184933f42583e582a19f0d4dfadd3516949"
   },
   "outputs": [],
   "source": [
    "def count_upper_chars(l):\n",
    "    return sum(1 for c in l if c.isupper())\n",
    "\n",
    "data[\"UpCharsInDescription\"] = data.Description.apply(lambda l: count_upper_chars(l))"
   ]
  },
  {
   "cell_type": "code",
   "execution_count": 47,
   "metadata": {
    "_uuid": "d2b6999cfeeec7510f9b08dde8673c6cd0f87f47"
   },
   "outputs": [
    {
     "data": {
      "text/plain": [
       "count    362522.000000\n",
       "mean         22.572291\n",
       "std           4.354845\n",
       "min           3.000000\n",
       "25%          20.000000\n",
       "50%          23.000000\n",
       "75%          26.000000\n",
       "max          32.000000\n",
       "Name: UpCharsInDescription, dtype: float64"
      ]
     },
     "execution_count": 47,
     "metadata": {},
     "output_type": "execute_result"
    }
   ],
   "source": [
    "data.UpCharsInDescription.describe()"
   ]
  },
  {
   "cell_type": "code",
   "execution_count": 48,
   "metadata": {
    "_uuid": "e47353a162fb69cc955e51d025743d74334fea57"
   },
   "outputs": [
    {
     "data": {
      "text/plain": [
       "Next Day Carriage        79\n",
       "High Resolution Image     3\n",
       "Name: Description, dtype: int64"
      ]
     },
     "execution_count": 48,
     "metadata": {},
     "output_type": "execute_result"
    }
   ],
   "source": [
    "data.loc[data.UpCharsInDescription <=5].Description.value_counts()"
   ]
  },
  {
   "cell_type": "markdown",
   "metadata": {
    "_uuid": "5d90dfe26c923538d3dac14fe3f8fdad04782306"
   },
   "source": [
    "It's strange that they differ from the others. Let's drop them:"
   ]
  },
  {
   "cell_type": "code",
   "execution_count": 49,
   "metadata": {
    "_uuid": "3c04dbd56c830888af7b5549737fecc1d3e54b72"
   },
   "outputs": [],
   "source": [
    "data = data.loc[data.UpCharsInDescription > 5].copy()"
   ]
  },
  {
   "cell_type": "markdown",
   "metadata": {
    "_uuid": "e817c9fd940747861b9aeeaca88437b309f571f2"
   },
   "source": [
    "And what about the descriptions with a length below 14?"
   ]
  },
  {
   "cell_type": "code",
   "execution_count": 50,
   "metadata": {
    "_kg_hide-input": true,
    "_uuid": "a6ca732983456f192c564f5dba75d2b6c67941bc"
   },
   "outputs": [
    {
     "data": {
      "image/png": "[encoded data removed]",
      "text/plain": [
       "<Figure size 1440x360 with 1 Axes>"
      ]
     },
     "metadata": {},
     "output_type": "display_data"
    }
   ],
   "source": [
    "dlength_counts = data.loc[data.DescriptionLength < 14].Description.value_counts()\n",
    "\n",
    "plt.figure(figsize=(20,5))\n",
    "sns.barplot(dlength_counts.index, dlength_counts.values, palette=\"Purples_r\")\n",
    "plt.xticks(rotation=90);"
   ]
  },
  {
   "cell_type": "markdown",
   "metadata": {
    "_uuid": "733051480c56a9eed5bd18e0af1004cc02dc380b"
   },
   "source": [
    "Ok, descriptions with small length look valid and we should not drop them. Ok, now let's see how many unique stock codes do we have and how many unique descriptions?"
   ]
  },
  {
   "cell_type": "code",
   "execution_count": 51,
   "metadata": {
    "_uuid": "17aa8494a720f5a1ac187a7908e1f233fb1dff19"
   },
   "outputs": [
    {
     "data": {
      "text/plain": [
       "2781"
      ]
     },
     "execution_count": 51,
     "metadata": {},
     "output_type": "execute_result"
    }
   ],
   "source": [
    "data.StockCode.nunique()"
   ]
  },
  {
   "cell_type": "code",
   "execution_count": 52,
   "metadata": {
    "_uuid": "efd88bc8d36edb9ad18035d4ab146f859f571efa"
   },
   "outputs": [
    {
     "data": {
      "text/plain": [
       "2981"
      ]
     },
     "execution_count": 52,
     "metadata": {},
     "output_type": "execute_result"
    }
   ],
   "source": [
    "data.Description.nunique()"
   ]
  },
  {
   "cell_type": "markdown",
   "metadata": {
    "_uuid": "0ab8c9418fe70ab1733ad511023d6acb0482d104"
   },
   "source": [
    "We still have more descriptions than stockcodes and we should continue to find out why they differ."
   ]
  },
  {
   "cell_type": "code",
   "execution_count": 53,
   "metadata": {
    "_uuid": "f1c1be9cd26cf2f273e885df43abe30c39efbb04"
   },
   "outputs": [
    {
     "data": {
      "text/plain": [
       "StockCode\n",
       "23196    4\n",
       "23236    4\n",
       "23244    3\n",
       "23231    3\n",
       "23131    3\n",
       "22937    3\n",
       "23126    3\n",
       "23370    3\n",
       "23366    3\n",
       "23413    3\n",
       "Name: Description, dtype: int64"
      ]
     },
     "execution_count": 53,
     "metadata": {},
     "output_type": "execute_result"
    }
   ],
   "source": [
    "data.groupby(\"StockCode\").Description.nunique().sort_values(ascending=False).iloc[0:10]"
   ]
  },
  {
   "cell_type": "markdown",
   "metadata": {
    "_uuid": "4e171fdc79b94247b3f94e9382b7a2a451dd7846"
   },
   "source": [
    "Wow, we still have stockcodes with multiple descriptions. Let's look at an example:"
   ]
  },
  {
   "cell_type": "code",
   "execution_count": 54,
   "metadata": {
    "_uuid": "32e17484ac6fcd93d46e17cbff6295f6c9e11a3a"
   },
   "outputs": [
    {
     "data": {
      "text/plain": [
       "ROUND STORAGE TIN VINTAGE LEAF    96\n",
       "STORAGE TIN VINTAGE LEAF           7\n",
       "CANNISTER VINTAGE LEAF DESIGN      2\n",
       "Name: Description, dtype: int64"
      ]
     },
     "execution_count": 54,
     "metadata": {},
     "output_type": "execute_result"
    }
   ],
   "source": [
    "data.loc[data.StockCode == \"23244\"].Description.value_counts()"
   ]
  },
  {
   "cell_type": "markdown",
   "metadata": {
    "_uuid": "10ebe00284a8e8278ef09f626158a146121ae0bf"
   },
   "source": [
    "Ok, browsing through the cases we can see that stockcodes are sometimes named a bit differently due to missing or changed words or typing errors. None the less they look ok and we can continue."
   ]
  },
  {
   "cell_type": "markdown",
   "metadata": {
    "_uuid": "5d729a862c06ee70f63c7fb79f052957a2f6cb47"
   },
   "source": [
    "### Customers <a class=\"anchor\" id=\"customers\"></a>"
   ]
  },
  {
   "cell_type": "code",
   "execution_count": 55,
   "metadata": {
    "_uuid": "950327cfce83dc7e00728e126ed2257b270f2e6e"
   },
   "outputs": [
    {
     "data": {
      "text/plain": [
       "4315"
      ]
     },
     "execution_count": 55,
     "metadata": {},
     "output_type": "execute_result"
    }
   ],
   "source": [
    "data.CustomerID.nunique()"
   ]
  },
  {
   "cell_type": "code",
   "execution_count": 56,
   "metadata": {
    "_kg_hide-input": true,
    "_uuid": "048d7895b176555baa4f98cc8d6b9d1f301a8f0d"
   },
   "outputs": [
    {
     "data": {
      "image/png": "[encoded data removed]",
      "text/plain": [
       "<Figure size 1440x360 with 1 Axes>"
      ]
     },
     "metadata": {},
     "output_type": "display_data"
    }
   ],
   "source": [
    "customer_counts = data.CustomerID.value_counts().sort_values(ascending=False).iloc[0:20] \n",
    "plt.figure(figsize=(20,5))\n",
    "sns.barplot(customer_counts.index, customer_counts.values, order=customer_counts.index)\n",
    "plt.ylabel(\"Counts\")\n",
    "plt.xlabel(\"CustomerID\")\n",
    "plt.title(\"Which customers are most common?\");\n",
    "#plt.xticks(rotation=90);"
   ]
  },
  {
   "cell_type": "markdown",
   "metadata": {
    "_uuid": "e228e9ec08ff601e1863b53c30bb4b3b851a016d"
   },
   "source": [
    "### Countries <a class=\"anchor\" id=\"countries\"></a>\n",
    "\n",
    "How many unique countries are delivered by the retailer?"
   ]
  },
  {
   "cell_type": "code",
   "execution_count": 57,
   "metadata": {
    "_kg_hide-input": true,
    "_uuid": "abb50d5b0ec7de22c5404eb782d416b9f41a44a2"
   },
   "outputs": [
    {
     "data": {
      "text/plain": [
       "37"
      ]
     },
     "execution_count": 57,
     "metadata": {},
     "output_type": "execute_result"
    }
   ],
   "source": [
    "data.Country.nunique()"
   ]
  },
  {
   "cell_type": "markdown",
   "metadata": {
    "_uuid": "a78ccbf31d952a0321c5a9c2382d3246e124bdd2"
   },
   "source": [
    "And which ones are most common?"
   ]
  },
  {
   "cell_type": "code",
   "execution_count": 60,
   "metadata": {
    "_kg_hide-input": true,
    "_uuid": "eb199b35d5881ce0bf00a43d2d88f33209493943"
   },
   "outputs": [
    {
     "data": {
      "image/png": "[encoded data removed]",
      "text/plain": [
       "<Figure size 1440x360 with 1 Axes>"
      ]
     },
     "metadata": {},
     "output_type": "display_data"
    }
   ],
   "source": [
    "country_counts = data.Country.value_counts().sort_values(ascending=False).iloc[0:20]\n",
    "plt.figure(figsize=(20,5))\n",
    "sns.barplot(country_counts.index, country_counts.values, palette=\"Greens_r\")\n",
    "plt.ylabel(\"Counts\")\n",
    "plt.title(\"Which countries made the most transactions?\");\n",
    "plt.xticks(rotation=90);\n",
    "#plt.yscale(\"log\")"
   ]
  },
  {
   "cell_type": "markdown",
   "metadata": {
    "_uuid": "425326bb408ece13f4ed28bc8ef959466e041b3b"
   },
   "source": [
    "We can see that the retailer sells almost all products in the UK, followed by many european countries. How many percentage of entries are inside UK?"
   ]
  },
  {
   "cell_type": "code",
   "execution_count": 59,
   "metadata": {
    "_uuid": "83ee296c0b7e7d950a96805fc7e00288eb64456d"
   },
   "outputs": [
    {
     "data": {
      "text/plain": [
       "89.10192031784572"
      ]
     },
     "execution_count": 59,
     "metadata": {},
     "output_type": "execute_result"
    }
   ],
   "source": [
    "data.loc[data.Country==\"United Kingdom\"].shape[0] / data.shape[0] * 100"
   ]
  },
  {
   "cell_type": "markdown",
   "metadata": {
    "_uuid": "b303f757e1bfeaaa2078f374deb5efa6b1722a57"
   },
   "source": [
    "Let's create a feature to indicate inside or outside of the UK:"
   ]
  },
  {
   "cell_type": "code",
   "execution_count": 61,
   "metadata": {
    "_uuid": "5f5c48970fb01d113b880066bfed6a822a28065b"
   },
   "outputs": [],
   "source": [
    "data[\"UK\"] = np.where(data.Country == \"United Kingdom\", 1, 0)"
   ]
  },
  {
   "cell_type": "code",
   "execution_count": 62,
   "metadata": {},
   "outputs": [
    {
     "data": {
      "text/plain": [
       "1         1\n",
       "5         1\n",
       "6         1\n",
       "7         1\n",
       "8         1\n",
       "         ..\n",
       "541904    0\n",
       "541905    0\n",
       "541906    0\n",
       "541907    0\n",
       "541908    0\n",
       "Name: UK, Length: 362440, dtype: int32"
      ]
     },
     "execution_count": 62,
     "metadata": {},
     "output_type": "execute_result"
    }
   ],
   "source": [
    "data.UK"
   ]
  },
  {
   "cell_type": "markdown",
   "metadata": {
    "_uuid": "5dae5c65af29f1fc94dbb8a731380843c012a8f9"
   },
   "source": [
    "### Unit Price <a class=\"anchor\" id=\"unitprice\"></a>"
   ]
  },
  {
   "cell_type": "code",
   "execution_count": 6,
   "metadata": {
    "_uuid": "b992145287136373f20d248b43ac9d8a184c2ccd"
   },
   "outputs": [
    {
     "data": {
      "text/plain": [
       "count    541909.000000\n",
       "mean          4.611114\n",
       "std          96.759853\n",
       "min      -11062.060000\n",
       "25%           1.250000\n",
       "50%           2.080000\n",
       "75%           4.130000\n",
       "max       38970.000000\n",
       "Name: UnitPrice, dtype: float64"
      ]
     },
     "execution_count": 6,
     "metadata": {},
     "output_type": "execute_result"
    }
   ],
   "source": [
    "data.UnitPrice.describe()"
   ]
  },
  {
   "cell_type": "markdown",
   "metadata": {
    "_uuid": "75fe51a2ee81ad9af13fbdd79c8e7831d2894bed"
   },
   "source": [
    "Again, we have strange occurences: zero unit prices!"
   ]
  },
  {
   "cell_type": "code",
   "execution_count": 7,
   "metadata": {
    "_uuid": "6ab1245e0dc2a29b0e492b2ddb94436b6c9c3012"
   },
   "outputs": [
    {
     "data": {
      "text/html": [
       "<div>\n",
       "<style scoped>\n",
       "    .dataframe tbody tr th:only-of-type {\n",
       "        vertical-align: middle;\n",
       "    }\n",
       "\n",
       "    .dataframe tbody tr th {\n",
       "        vertical-align: top;\n",
       "    }\n",
       "\n",
       "    .dataframe thead th {\n",
       "        text-align: right;\n",
       "    }\n",
       "</style>\n",
       "<table border=\"1\" class=\"dataframe\">\n",
       "  <thead>\n",
       "    <tr style=\"text-align: right;\">\n",
       "      <th></th>\n",
       "      <th>InvoiceNo</th>\n",
       "      <th>StockCode</th>\n",
       "      <th>Description</th>\n",
       "      <th>Quantity</th>\n",
       "      <th>InvoiceDate</th>\n",
       "      <th>UnitPrice</th>\n",
       "      <th>CustomerID</th>\n",
       "      <th>Country</th>\n",
       "    </tr>\n",
       "  </thead>\n",
       "  <tbody>\n",
       "    <tr>\n",
       "      <th>502122</th>\n",
       "      <td>578841</td>\n",
       "      <td>84826</td>\n",
       "      <td>ASSTD DESIGN 3D PAPER STICKERS</td>\n",
       "      <td>12540</td>\n",
       "      <td>11/25/2011 15:57</td>\n",
       "      <td>0.0</td>\n",
       "      <td>13256</td>\n",
       "      <td>United Kingdom</td>\n",
       "    </tr>\n",
       "    <tr>\n",
       "      <th>74614</th>\n",
       "      <td>542504</td>\n",
       "      <td>37413</td>\n",
       "      <td>NaN</td>\n",
       "      <td>5568</td>\n",
       "      <td>1/28/2011 12:03</td>\n",
       "      <td>0.0</td>\n",
       "      <td>NaN</td>\n",
       "      <td>United Kingdom</td>\n",
       "    </tr>\n",
       "    <tr>\n",
       "      <th>220843</th>\n",
       "      <td>556231</td>\n",
       "      <td>85123A</td>\n",
       "      <td>?</td>\n",
       "      <td>4000</td>\n",
       "      <td>6/9/2011 15:04</td>\n",
       "      <td>0.0</td>\n",
       "      <td>NaN</td>\n",
       "      <td>United Kingdom</td>\n",
       "    </tr>\n",
       "    <tr>\n",
       "      <th>263885</th>\n",
       "      <td>560040</td>\n",
       "      <td>23343</td>\n",
       "      <td>came coded as 20713</td>\n",
       "      <td>3100</td>\n",
       "      <td>7/14/2011 14:28</td>\n",
       "      <td>0.0</td>\n",
       "      <td>NaN</td>\n",
       "      <td>United Kingdom</td>\n",
       "    </tr>\n",
       "    <tr>\n",
       "      <th>115807</th>\n",
       "      <td>546139</td>\n",
       "      <td>84988</td>\n",
       "      <td>?</td>\n",
       "      <td>3000</td>\n",
       "      <td>3/9/2011 16:35</td>\n",
       "      <td>0.0</td>\n",
       "      <td>NaN</td>\n",
       "      <td>United Kingdom</td>\n",
       "    </tr>\n",
       "  </tbody>\n",
       "</table>\n",
       "</div>"
      ],
      "text/plain": [
       "       InvoiceNo StockCode                     Description  Quantity  \\\n",
       "502122    578841     84826  ASSTD DESIGN 3D PAPER STICKERS     12540   \n",
       "74614     542504     37413                             NaN      5568   \n",
       "220843    556231    85123A                               ?      4000   \n",
       "263885    560040     23343             came coded as 20713      3100   \n",
       "115807    546139     84988                               ?      3000   \n",
       "\n",
       "             InvoiceDate  UnitPrice CustomerID         Country  \n",
       "502122  11/25/2011 15:57        0.0      13256  United Kingdom  \n",
       "74614    1/28/2011 12:03        0.0        NaN  United Kingdom  \n",
       "220843    6/9/2011 15:04        0.0        NaN  United Kingdom  \n",
       "263885   7/14/2011 14:28        0.0        NaN  United Kingdom  \n",
       "115807    3/9/2011 16:35        0.0        NaN  United Kingdom  "
      ]
     },
     "execution_count": 7,
     "metadata": {},
     "output_type": "execute_result"
    }
   ],
   "source": [
    "data.loc[data.UnitPrice == 0].sort_values(by=\"Quantity\", ascending=False).head()"
   ]
  },
  {
   "cell_type": "markdown",
   "metadata": {
    "_uuid": "d809912de33182d1edfc90a72c436113cc60a013"
   },
   "source": [
    "That's not good again. It's not obvious if they are gifts to customers or not :-( Let's drop them:"
   ]
  },
  {
   "cell_type": "code",
   "execution_count": 8,
   "metadata": {
    "_uuid": "07550ce40d3993919de2e6e02f4d2f07207220c4"
   },
   "outputs": [],
   "source": [
    "data = data.loc[data.UnitPrice > 0].copy()"
   ]
  },
  {
   "cell_type": "code",
   "execution_count": 9,
   "metadata": {
    "_kg_hide-input": true,
    "_uuid": "8bf3f6280c69d4dbbbbaa76f5c31c947b3906a60"
   },
   "outputs": [
    {
     "data": {
      "image/png": "[encoded data removed]",
      "text/plain": [
       "<Figure size 1440x360 with 2 Axes>"
      ]
     },
     "metadata": {},
     "output_type": "display_data"
    }
   ],
   "source": [
    "fig, ax = plt.subplots(1,2,figsize=(20,5))\n",
    "sns.distplot(data.UnitPrice, ax=ax[0], kde=False, color=\"red\")\n",
    "sns.distplot(np.log(data.UnitPrice), ax=ax[1], bins=20, color=\"tomato\", kde=False)\n",
    "ax[1].set_xlabel(\"Log-Unit-Price\");"
   ]
  },
  {
   "cell_type": "code",
   "execution_count": 10,
   "metadata": {
    "_uuid": "c1374e7c8c199b163a1054bf44e5989b9f19b20b"
   },
   "outputs": [
    {
     "data": {
      "text/plain": [
       "0.1353352832366127"
      ]
     },
     "execution_count": 10,
     "metadata": {},
     "output_type": "execute_result"
    }
   ],
   "source": [
    "np.exp(-2)"
   ]
  },
  {
   "cell_type": "code",
   "execution_count": 11,
   "metadata": {
    "_uuid": "39d40d718a0109291f723965018454b3edda706f"
   },
   "outputs": [
    {
     "data": {
      "text/plain": [
       "20.085536923187668"
      ]
     },
     "execution_count": 11,
     "metadata": {},
     "output_type": "execute_result"
    }
   ],
   "source": [
    "np.exp(3)"
   ]
  },
  {
   "cell_type": "code",
   "execution_count": 12,
   "metadata": {
    "_uuid": "cc7bbb852b219aac333c790233a0e0273d7e1a64"
   },
   "outputs": [
    {
     "data": {
      "text/plain": [
       "9.95"
      ]
     },
     "execution_count": 12,
     "metadata": {},
     "output_type": "execute_result"
    }
   ],
   "source": [
    "np.quantile(data.UnitPrice, 0.95)"
   ]
  },
  {
   "cell_type": "markdown",
   "metadata": {
    "_uuid": "0c11c0a996adbde8dd0bdfb27067a74b5e81495b"
   },
   "source": [
    "Let's focus transactions with prices that fall into this range as we don't want to make predictions for very seldom products with high prices. Starting easy is always good!"
   ]
  },
  {
   "cell_type": "code",
   "execution_count": 13,
   "metadata": {
    "_uuid": "92fd11c8cd28fec487cbc349d66d57e5d49544e7"
   },
   "outputs": [],
   "source": [
    "data = data.loc[(data.UnitPrice > 0.1) & (data.UnitPrice < 20)].copy()"
   ]
  },
  {
   "cell_type": "markdown",
   "metadata": {
    "_uuid": "6b9452719daa560406810702b4174613e04ca25f"
   },
   "source": [
    "### Quantities <a class=\"anchor\" id=\"quantities\"></a>\n",
    "\n",
    "Ok, the most important one - the target. Let's take a look at its distribution:"
   ]
  },
  {
   "cell_type": "code",
   "execution_count": 14,
   "metadata": {
    "_uuid": "8335f8d2c56a4ce80099b7c2b588b8259daa3f29"
   },
   "outputs": [
    {
     "data": {
      "text/plain": [
       "count    534906.000000\n",
       "mean          9.869132\n",
       "std         215.805073\n",
       "min      -80995.000000\n",
       "25%           1.000000\n",
       "50%           3.000000\n",
       "75%          10.000000\n",
       "max       80995.000000\n",
       "Name: Quantity, dtype: float64"
      ]
     },
     "execution_count": 14,
     "metadata": {},
     "output_type": "execute_result"
    }
   ],
   "source": [
    "data.Quantity.describe()"
   ]
  },
  {
   "cell_type": "markdown",
   "metadata": {
    "_uuid": "ab8226a8289f8c0d08f31208840e50542c76dd2c"
   },
   "source": [
    "Ok, most products are sold in quantities from 1 to 12. But, we have extreme, unrealistic outliers again:"
   ]
  },
  {
   "cell_type": "code",
   "execution_count": 15,
   "metadata": {
    "_kg_hide-input": true,
    "_uuid": "096dbb2b2d794aade624aaf43d32bfe5482daf7c"
   },
   "outputs": [
    {
     "data": {
      "image/png": "[encoded data removed]",
      "text/plain": [
       "<Figure size 1440x360 with 2 Axes>"
      ]
     },
     "metadata": {},
     "output_type": "display_data"
    }
   ],
   "source": [
    "fig, ax = plt.subplots(1,2,figsize=(20,5))\n",
    "sns.distplot(data.Quantity, ax=ax[0], kde=False, color=\"limegreen\");\n",
    "sns.distplot(np.log(data.Quantity), ax=ax[1], bins=20, kde=False, color=\"limegreen\");\n",
    "ax[0].set_title(\"Quantity distribution\")\n",
    "ax[0].set_yscale(\"log\")\n",
    "ax[1].set_title(\"Log-Quantity distribution\")\n",
    "ax[1].set_xlabel(\"Natural-Log Quantity\");"
   ]
  },
  {
   "cell_type": "markdown",
   "metadata": {
    "_uuid": "7e3747a033764d9bdbc67749c5153f197f16f56f"
   },
   "source": [
    "As you can see by the log-transformed distribution it would make sense to make a cut at:"
   ]
  },
  {
   "cell_type": "code",
   "execution_count": 16,
   "metadata": {
    "_uuid": "c89ce6314c7e8873d9acded7f5fd11a4d6f2f03a"
   },
   "outputs": [
    {
     "data": {
      "text/plain": [
       "54.598150033144236"
      ]
     },
     "execution_count": 16,
     "metadata": {},
     "output_type": "execute_result"
    }
   ],
   "source": [
    "np.exp(4)"
   ]
  },
  {
   "cell_type": "code",
   "execution_count": 17,
   "metadata": {
    "_uuid": "b57d31a14a29c4e8de6edfc8da8ccd50506a1613"
   },
   "outputs": [
    {
     "data": {
      "text/plain": [
       "28.0"
      ]
     },
     "execution_count": 17,
     "metadata": {},
     "output_type": "execute_result"
    }
   ],
   "source": [
    "np.quantile(data.Quantity, 0.95)"
   ]
  },
  {
   "cell_type": "markdown",
   "metadata": {
    "_uuid": "2962a4efcc2cba9a90d57c0f0815b5f4010a8d53"
   },
   "source": [
    "In this case we would still cover more than 95 % of the data!"
   ]
  },
  {
   "cell_type": "code",
   "execution_count": 18,
   "metadata": {
    "_uuid": "a17c34c87d022207dc879decc09f609a287abd3b"
   },
   "outputs": [],
   "source": [
    "data = data.loc[data.Quantity < 55].copy()"
   ]
  },
  {
   "cell_type": "markdown",
   "metadata": {
    "_uuid": "c21ffec5c06e96d21aff31903fc2053d6f92e726"
   },
   "source": [
    "### Revenues <a class=\"anchor\" id=\"revenues\"></a>"
   ]
  },
  {
   "cell_type": "markdown",
   "metadata": {
    "_uuid": "d3ccb5520360c4f0f40bc4635ac406972fbdd5f8"
   },
   "source": [
    "### Conclusion <a class=\"anchor\" id=\"expconclusion\"></a>"
   ]
  },
  {
   "cell_type": "markdown",
   "metadata": {
    "_uuid": "f2781c6e6f3881d6cb222ab1c2b5ca31c36bf7ba"
   },
   "source": [
    "## Focus on daily product sales <a class=\"anchor\" id=\"daily\"></a>\n",
    "\n",
    "As we like to predict the daily amount of product sales, we need to compute a daily aggregation of this data. For this purpose we need to extract temporal features out of the InvoiceDate. In addition we can compute the revenue gained by a transaction using the unit price and the quantity:"
   ]
  },
  {
   "cell_type": "code",
   "execution_count": 21,
   "metadata": {
    "_uuid": "d4ee407d40774d26400e6e2fca60c3c55698df59"
   },
   "outputs": [],
   "source": [
    "data[\"Revenue\"] = data.Quantity * data.UnitPrice\n",
    "\n",
    "data[\"Year\"] = data.InvoiceDate.dt.year\n",
    "data[\"Quarter\"] = data.InvoiceDate.dt.quarter\n",
    "data[\"Month\"] = data.InvoiceDate.dt.month\n",
    "data[\"Week\"] = data.InvoiceDate.dt.week\n",
    "data[\"Weekday\"] = data.InvoiceDate.dt.weekday\n",
    "data[\"Day\"] = data.InvoiceDate.dt.day\n",
    "data[\"Dayofyear\"] = data.InvoiceDate.dt.dayofyear\n",
    "data[\"Date\"] = pd.to_datetime(data[['Year', 'Month', 'Day']])"
   ]
  },
  {
   "cell_type": "markdown",
   "metadata": {
    "_uuid": "1b51447af1400facd7e62e60d8de973cf77245ea"
   },
   "source": [
    "As the key task of this kernel is to predict the amount of products sold per day, we can sum up the daily quantities per product stockcode :"
   ]
  },
  {
   "cell_type": "code",
   "execution_count": 22,
   "metadata": {
    "_uuid": "eb0974babf56b0875d92b7ca617ea8ea5c8c8fd1"
   },
   "outputs": [],
   "source": [
    "grouped_features = [\"Date\", \"Year\", \"Quarter\",\"Month\", \"Week\", \"Weekday\", \"Dayofyear\", \"Day\",\n",
    "                    \"StockCode\"]"
   ]
  },
  {
   "cell_type": "markdown",
   "metadata": {
    "_uuid": "29c4d9ac43dba892c0c967c232ef77f09ecb1f53"
   },
   "source": [
    "This way we loose information abount customers, countries and price information but we will recover it later on during this kernel. Besides the quantities let's aggregate the revenues as well:"
   ]
  },
  {
   "cell_type": "code",
   "execution_count": 23,
   "metadata": {
    "_kg_hide-input": true,
    "_uuid": "14cbaaf9118768092ba24a4d91d1d15870a5a09e"
   },
   "outputs": [
    {
     "data": {
      "text/html": [
       "<div>\n",
       "<style scoped>\n",
       "    .dataframe tbody tr th:only-of-type {\n",
       "        vertical-align: middle;\n",
       "    }\n",
       "\n",
       "    .dataframe tbody tr th {\n",
       "        vertical-align: top;\n",
       "    }\n",
       "\n",
       "    .dataframe thead th {\n",
       "        text-align: right;\n",
       "    }\n",
       "</style>\n",
       "<table border=\"1\" class=\"dataframe\">\n",
       "  <thead>\n",
       "    <tr style=\"text-align: right;\">\n",
       "      <th></th>\n",
       "      <th>Date</th>\n",
       "      <th>Year</th>\n",
       "      <th>Quarter</th>\n",
       "      <th>Month</th>\n",
       "      <th>Week</th>\n",
       "      <th>Weekday</th>\n",
       "      <th>Dayofyear</th>\n",
       "      <th>Day</th>\n",
       "      <th>StockCode</th>\n",
       "      <th>Quantity</th>\n",
       "      <th>Revenue</th>\n",
       "    </tr>\n",
       "  </thead>\n",
       "  <tbody>\n",
       "    <tr>\n",
       "      <th>0</th>\n",
       "      <td>2010-12-01</td>\n",
       "      <td>2010</td>\n",
       "      <td>4</td>\n",
       "      <td>12</td>\n",
       "      <td>48</td>\n",
       "      <td>2</td>\n",
       "      <td>335</td>\n",
       "      <td>1</td>\n",
       "      <td>10002</td>\n",
       "      <td>60</td>\n",
       "      <td>51.00</td>\n",
       "    </tr>\n",
       "    <tr>\n",
       "      <th>1</th>\n",
       "      <td>2010-12-01</td>\n",
       "      <td>2010</td>\n",
       "      <td>4</td>\n",
       "      <td>12</td>\n",
       "      <td>48</td>\n",
       "      <td>2</td>\n",
       "      <td>335</td>\n",
       "      <td>1</td>\n",
       "      <td>10125</td>\n",
       "      <td>2</td>\n",
       "      <td>1.70</td>\n",
       "    </tr>\n",
       "    <tr>\n",
       "      <th>2</th>\n",
       "      <td>2010-12-01</td>\n",
       "      <td>2010</td>\n",
       "      <td>4</td>\n",
       "      <td>12</td>\n",
       "      <td>48</td>\n",
       "      <td>2</td>\n",
       "      <td>335</td>\n",
       "      <td>1</td>\n",
       "      <td>10133</td>\n",
       "      <td>5</td>\n",
       "      <td>4.25</td>\n",
       "    </tr>\n",
       "    <tr>\n",
       "      <th>3</th>\n",
       "      <td>2010-12-01</td>\n",
       "      <td>2010</td>\n",
       "      <td>4</td>\n",
       "      <td>12</td>\n",
       "      <td>48</td>\n",
       "      <td>2</td>\n",
       "      <td>335</td>\n",
       "      <td>1</td>\n",
       "      <td>10135</td>\n",
       "      <td>1</td>\n",
       "      <td>2.51</td>\n",
       "    </tr>\n",
       "    <tr>\n",
       "      <th>4</th>\n",
       "      <td>2010-12-01</td>\n",
       "      <td>2010</td>\n",
       "      <td>4</td>\n",
       "      <td>12</td>\n",
       "      <td>48</td>\n",
       "      <td>2</td>\n",
       "      <td>335</td>\n",
       "      <td>1</td>\n",
       "      <td>11001</td>\n",
       "      <td>3</td>\n",
       "      <td>10.08</td>\n",
       "    </tr>\n",
       "  </tbody>\n",
       "</table>\n",
       "</div>"
      ],
      "text/plain": [
       "        Date  Year  Quarter  Month  Week  Weekday  Dayofyear  Day StockCode  \\\n",
       "0 2010-12-01  2010        4     12    48        2        335    1     10002   \n",
       "1 2010-12-01  2010        4     12    48        2        335    1     10125   \n",
       "2 2010-12-01  2010        4     12    48        2        335    1     10133   \n",
       "3 2010-12-01  2010        4     12    48        2        335    1     10135   \n",
       "4 2010-12-01  2010        4     12    48        2        335    1     11001   \n",
       "\n",
       "   Quantity  Revenue  \n",
       "0        60    51.00  \n",
       "1         2     1.70  \n",
       "2         5     4.25  \n",
       "3         1     2.51  \n",
       "4         3    10.08  "
      ]
     },
     "execution_count": 23,
     "metadata": {},
     "output_type": "execute_result"
    }
   ],
   "source": [
    "daily_data = pd.DataFrame(data.groupby(grouped_features).Quantity.sum(),\n",
    "                          columns=[\"Quantity\"])\n",
    "daily_data[\"Revenue\"] = data.groupby(grouped_features).Revenue.sum()\n",
    "daily_data = daily_data.reset_index()\n",
    "daily_data.head(5)"
   ]
  },
  {
   "cell_type": "markdown",
   "metadata": {
    "_uuid": "83964d392f0ba482687565188673683ef0064cde"
   },
   "source": [
    "#### How are the quantities and revenues distributed?"
   ]
  },
  {
   "cell_type": "code",
   "execution_count": 24,
   "metadata": {
    "_uuid": "1d8d0f8501242903acce1dc90bd2a2d03ce5e40a"
   },
   "outputs": [
    {
     "data": {
      "text/html": [
       "<div>\n",
       "<style scoped>\n",
       "    .dataframe tbody tr th:only-of-type {\n",
       "        vertical-align: middle;\n",
       "    }\n",
       "\n",
       "    .dataframe tbody tr th {\n",
       "        vertical-align: top;\n",
       "    }\n",
       "\n",
       "    .dataframe thead th {\n",
       "        text-align: right;\n",
       "    }\n",
       "</style>\n",
       "<table border=\"1\" class=\"dataframe\">\n",
       "  <thead>\n",
       "    <tr style=\"text-align: right;\">\n",
       "      <th></th>\n",
       "      <th>Quantity</th>\n",
       "      <th>Revenue</th>\n",
       "    </tr>\n",
       "  </thead>\n",
       "  <tbody>\n",
       "    <tr>\n",
       "      <th>count</th>\n",
       "      <td>273923.000000</td>\n",
       "      <td>273923.000000</td>\n",
       "    </tr>\n",
       "    <tr>\n",
       "      <th>mean</th>\n",
       "      <td>12.007075</td>\n",
       "      <td>24.850512</td>\n",
       "    </tr>\n",
       "    <tr>\n",
       "      <th>std</th>\n",
       "      <td>211.126329</td>\n",
       "      <td>358.023633</td>\n",
       "    </tr>\n",
       "    <tr>\n",
       "      <th>min</th>\n",
       "      <td>-80995.000000</td>\n",
       "      <td>-168469.600000</td>\n",
       "    </tr>\n",
       "    <tr>\n",
       "      <th>25%</th>\n",
       "      <td>2.000000</td>\n",
       "      <td>4.960000</td>\n",
       "    </tr>\n",
       "    <tr>\n",
       "      <th>50%</th>\n",
       "      <td>6.000000</td>\n",
       "      <td>13.200000</td>\n",
       "    </tr>\n",
       "    <tr>\n",
       "      <th>75%</th>\n",
       "      <td>16.000000</td>\n",
       "      <td>29.610000</td>\n",
       "    </tr>\n",
       "    <tr>\n",
       "      <th>max</th>\n",
       "      <td>453.000000</td>\n",
       "      <td>1960.140000</td>\n",
       "    </tr>\n",
       "  </tbody>\n",
       "</table>\n",
       "</div>"
      ],
      "text/plain": [
       "            Quantity        Revenue\n",
       "count  273923.000000  273923.000000\n",
       "mean       12.007075      24.850512\n",
       "std       211.126329     358.023633\n",
       "min    -80995.000000 -168469.600000\n",
       "25%         2.000000       4.960000\n",
       "50%         6.000000      13.200000\n",
       "75%        16.000000      29.610000\n",
       "max       453.000000    1960.140000"
      ]
     },
     "execution_count": 24,
     "metadata": {},
     "output_type": "execute_result"
    }
   ],
   "source": [
    "daily_data.loc[:, [\"Quantity\", \"Revenue\"]].describe()"
   ]
  },
  {
   "cell_type": "markdown",
   "metadata": {
    "_uuid": "3357c04f0a5827f08ee3e04ded6af5577cdaa256"
   },
   "source": [
    "As we can see by the min and max values the **target variable shows extreme outliers**.  If we would like to use it as targets, we **should exclude them as they will mislead our validation. As I like to use early stopping this will directly influence training of predictive models as well**.  "
   ]
  },
  {
   "cell_type": "code",
   "execution_count": 25,
   "metadata": {
    "_uuid": "979dbe1a1862f791ae46a10f0e5f01d9bf76d7f9"
   },
   "outputs": [
    {
     "name": "stdout",
     "output_type": "stream",
     "text": [
      "(-1.0, 84.0)\n"
     ]
    }
   ],
   "source": [
    "low_quantity = daily_data.Quantity.quantile(0.01)\n",
    "high_quantity = daily_data.Quantity.quantile(0.99)\n",
    "print((low_quantity, high_quantity))"
   ]
  },
  {
   "cell_type": "code",
   "execution_count": 26,
   "metadata": {
    "_uuid": "f07b81c23b097ba1df89221be2e84ef1a3a045c6"
   },
   "outputs": [
    {
     "name": "stdout",
     "output_type": "stream",
     "text": [
      "(-3.75, 211.0433999999991)\n"
     ]
    }
   ],
   "source": [
    "low_revenue = daily_data.Revenue.quantile(0.01)\n",
    "high_revenue = daily_data.Revenue.quantile(0.99)\n",
    "print((low_revenue, high_revenue))"
   ]
  },
  {
   "cell_type": "markdown",
   "metadata": {
    "_uuid": "32a67d025151f20229a124c509c75045832e3263"
   },
   "source": [
    "Let's **only use target ranges data that are occupied by  90 % of the data entries**. This is a first and easy strategy to exclude heavy outliers but we should always be aware of the fact that we have lost some information given by the remaining % we have excluded. It could be nice and useful in general to understand and analyse what has caused these outliers. "
   ]
  },
  {
   "cell_type": "code",
   "execution_count": 27,
   "metadata": {
    "_uuid": "57106714c58121f594475c6949e3a31e078604ee"
   },
   "outputs": [],
   "source": [
    "samples = daily_data.shape[0]"
   ]
  },
  {
   "cell_type": "code",
   "execution_count": 28,
   "metadata": {
    "_uuid": "1c4b4d33a8a935982b1b8933f87e3feb104a626d"
   },
   "outputs": [],
   "source": [
    "daily_data = daily_data.loc[\n",
    "    (daily_data.Quantity >= low_quantity) & (daily_data.Quantity <= high_quantity)]\n",
    "daily_data = daily_data.loc[\n",
    "    (daily_data.Revenue >= low_revenue) & (daily_data.Revenue <= high_revenue)]"
   ]
  },
  {
   "cell_type": "markdown",
   "metadata": {
    "_uuid": "5a78b05d899a73e2dfe78eb5357e07bc36a2553f"
   },
   "source": [
    "How much entries have we lost?"
   ]
  },
  {
   "cell_type": "code",
   "execution_count": 29,
   "metadata": {
    "_uuid": "b898f5f3db4c31ae33360fe7c51135823463e677"
   },
   "outputs": [
    {
     "data": {
      "text/plain": [
       "7621"
      ]
     },
     "execution_count": 29,
     "metadata": {},
     "output_type": "execute_result"
    }
   ],
   "source": [
    "samples - daily_data.shape[0]"
   ]
  },
  {
   "cell_type": "markdown",
   "metadata": {
    "_uuid": "921a3f0edd757e08fd39c538a40e3b500d9f5c54"
   },
   "source": [
    "Let's take a look at the remaining distributions of daily quantities:"
   ]
  },
  {
   "cell_type": "code",
   "execution_count": 30,
   "metadata": {
    "_kg_hide-input": true,
    "_uuid": "a06e7ec29a81aa344cf1ab033279794f5d22da9a"
   },
   "outputs": [
    {
     "ename": "ValueError",
     "evalue": "supplied range of [-inf, 4.430816798843313] is not finite",
     "output_type": "error",
     "traceback": [
      "\u001b[1;31m---------------------------------------------------------------------------\u001b[0m",
      "\u001b[1;31mValueError\u001b[0m                                Traceback (most recent call last)",
      "\u001b[1;32m<ipython-input-30-25066f3cc1b7>\u001b[0m in \u001b[0;36m<module>\u001b[1;34m\u001b[0m\n\u001b[0;32m      1\u001b[0m \u001b[0mfig\u001b[0m\u001b[1;33m,\u001b[0m \u001b[0max\u001b[0m \u001b[1;33m=\u001b[0m \u001b[0mplt\u001b[0m\u001b[1;33m.\u001b[0m\u001b[0msubplots\u001b[0m\u001b[1;33m(\u001b[0m\u001b[1;36m1\u001b[0m\u001b[1;33m,\u001b[0m\u001b[1;36m2\u001b[0m\u001b[1;33m,\u001b[0m\u001b[0mfigsize\u001b[0m\u001b[1;33m=\u001b[0m\u001b[1;33m(\u001b[0m\u001b[1;36m20\u001b[0m\u001b[1;33m,\u001b[0m\u001b[1;36m5\u001b[0m\u001b[1;33m)\u001b[0m\u001b[1;33m)\u001b[0m\u001b[1;33m\u001b[0m\u001b[1;33m\u001b[0m\u001b[0m\n\u001b[0;32m      2\u001b[0m \u001b[0msns\u001b[0m\u001b[1;33m.\u001b[0m\u001b[0mdistplot\u001b[0m\u001b[1;33m(\u001b[0m\u001b[0mdaily_data\u001b[0m\u001b[1;33m.\u001b[0m\u001b[0mQuantity\u001b[0m\u001b[1;33m.\u001b[0m\u001b[0mvalues\u001b[0m\u001b[1;33m,\u001b[0m \u001b[0mkde\u001b[0m\u001b[1;33m=\u001b[0m\u001b[1;32mTrue\u001b[0m\u001b[1;33m,\u001b[0m \u001b[0max\u001b[0m\u001b[1;33m=\u001b[0m\u001b[0max\u001b[0m\u001b[1;33m[\u001b[0m\u001b[1;36m0\u001b[0m\u001b[1;33m]\u001b[0m\u001b[1;33m,\u001b[0m \u001b[0mcolor\u001b[0m\u001b[1;33m=\u001b[0m\u001b[1;34m\"Orange\"\u001b[0m\u001b[1;33m,\u001b[0m \u001b[0mbins\u001b[0m\u001b[1;33m=\u001b[0m\u001b[1;36m30\u001b[0m\u001b[1;33m)\u001b[0m\u001b[1;33m;\u001b[0m\u001b[1;33m\u001b[0m\u001b[1;33m\u001b[0m\u001b[0m\n\u001b[1;32m----> 3\u001b[1;33m \u001b[0msns\u001b[0m\u001b[1;33m.\u001b[0m\u001b[0mdistplot\u001b[0m\u001b[1;33m(\u001b[0m\u001b[0mnp\u001b[0m\u001b[1;33m.\u001b[0m\u001b[0mlog\u001b[0m\u001b[1;33m(\u001b[0m\u001b[0mdaily_data\u001b[0m\u001b[1;33m.\u001b[0m\u001b[0mQuantity\u001b[0m\u001b[1;33m.\u001b[0m\u001b[0mvalues\u001b[0m\u001b[1;33m)\u001b[0m\u001b[1;33m,\u001b[0m \u001b[0mkde\u001b[0m\u001b[1;33m=\u001b[0m\u001b[1;32mTrue\u001b[0m\u001b[1;33m,\u001b[0m \u001b[0max\u001b[0m\u001b[1;33m=\u001b[0m\u001b[0max\u001b[0m\u001b[1;33m[\u001b[0m\u001b[1;36m1\u001b[0m\u001b[1;33m]\u001b[0m\u001b[1;33m,\u001b[0m \u001b[0mcolor\u001b[0m\u001b[1;33m=\u001b[0m\u001b[1;34m\"Orange\"\u001b[0m\u001b[1;33m,\u001b[0m \u001b[0mbins\u001b[0m\u001b[1;33m=\u001b[0m\u001b[1;36m30\u001b[0m\u001b[1;33m)\u001b[0m\u001b[1;33m;\u001b[0m\u001b[1;33m\u001b[0m\u001b[1;33m\u001b[0m\u001b[0m\n\u001b[0m\u001b[0;32m      4\u001b[0m \u001b[0max\u001b[0m\u001b[1;33m[\u001b[0m\u001b[1;36m0\u001b[0m\u001b[1;33m]\u001b[0m\u001b[1;33m.\u001b[0m\u001b[0mset_xlabel\u001b[0m\u001b[1;33m(\u001b[0m\u001b[1;34m\"Number of daily product sales\"\u001b[0m\u001b[1;33m)\u001b[0m\u001b[1;33m;\u001b[0m\u001b[1;33m\u001b[0m\u001b[1;33m\u001b[0m\u001b[0m\n\u001b[0;32m      5\u001b[0m \u001b[0max\u001b[0m\u001b[1;33m[\u001b[0m\u001b[1;36m0\u001b[0m\u001b[1;33m]\u001b[0m\u001b[1;33m.\u001b[0m\u001b[0mset_ylabel\u001b[0m\u001b[1;33m(\u001b[0m\u001b[1;34m\"Frequency\"\u001b[0m\u001b[1;33m)\u001b[0m\u001b[1;33m;\u001b[0m\u001b[1;33m\u001b[0m\u001b[1;33m\u001b[0m\u001b[0m\n",
      "\u001b[1;32m~\\Anaconda3\\lib\\site-packages\\seaborn\\distributions.py\u001b[0m in \u001b[0;36mdistplot\u001b[1;34m(a, bins, hist, kde, rug, fit, hist_kws, kde_kws, rug_kws, fit_kws, color, vertical, norm_hist, axlabel, label, ax)\u001b[0m\n\u001b[0;32m    225\u001b[0m         \u001b[0mhist_color\u001b[0m \u001b[1;33m=\u001b[0m \u001b[0mhist_kws\u001b[0m\u001b[1;33m.\u001b[0m\u001b[0mpop\u001b[0m\u001b[1;33m(\u001b[0m\u001b[1;34m\"color\"\u001b[0m\u001b[1;33m,\u001b[0m \u001b[0mcolor\u001b[0m\u001b[1;33m)\u001b[0m\u001b[1;33m\u001b[0m\u001b[1;33m\u001b[0m\u001b[0m\n\u001b[0;32m    226\u001b[0m         ax.hist(a, bins, orientation=orientation,\n\u001b[1;32m--> 227\u001b[1;33m                 color=hist_color, **hist_kws)\n\u001b[0m\u001b[0;32m    228\u001b[0m         \u001b[1;32mif\u001b[0m \u001b[0mhist_color\u001b[0m \u001b[1;33m!=\u001b[0m \u001b[0mcolor\u001b[0m\u001b[1;33m:\u001b[0m\u001b[1;33m\u001b[0m\u001b[1;33m\u001b[0m\u001b[0m\n\u001b[0;32m    229\u001b[0m             \u001b[0mhist_kws\u001b[0m\u001b[1;33m[\u001b[0m\u001b[1;34m\"color\"\u001b[0m\u001b[1;33m]\u001b[0m \u001b[1;33m=\u001b[0m \u001b[0mhist_color\u001b[0m\u001b[1;33m\u001b[0m\u001b[1;33m\u001b[0m\u001b[0m\n",
      "\u001b[1;32m~\\Anaconda3\\lib\\site-packages\\matplotlib\\__init__.py\u001b[0m in \u001b[0;36minner\u001b[1;34m(ax, data, *args, **kwargs)\u001b[0m\n\u001b[0;32m   1597\u001b[0m     \u001b[1;32mdef\u001b[0m \u001b[0minner\u001b[0m\u001b[1;33m(\u001b[0m\u001b[0max\u001b[0m\u001b[1;33m,\u001b[0m \u001b[1;33m*\u001b[0m\u001b[0margs\u001b[0m\u001b[1;33m,\u001b[0m \u001b[0mdata\u001b[0m\u001b[1;33m=\u001b[0m\u001b[1;32mNone\u001b[0m\u001b[1;33m,\u001b[0m \u001b[1;33m**\u001b[0m\u001b[0mkwargs\u001b[0m\u001b[1;33m)\u001b[0m\u001b[1;33m:\u001b[0m\u001b[1;33m\u001b[0m\u001b[1;33m\u001b[0m\u001b[0m\n\u001b[0;32m   1598\u001b[0m         \u001b[1;32mif\u001b[0m \u001b[0mdata\u001b[0m \u001b[1;32mis\u001b[0m \u001b[1;32mNone\u001b[0m\u001b[1;33m:\u001b[0m\u001b[1;33m\u001b[0m\u001b[1;33m\u001b[0m\u001b[0m\n\u001b[1;32m-> 1599\u001b[1;33m             \u001b[1;32mreturn\u001b[0m \u001b[0mfunc\u001b[0m\u001b[1;33m(\u001b[0m\u001b[0max\u001b[0m\u001b[1;33m,\u001b[0m \u001b[1;33m*\u001b[0m\u001b[0mmap\u001b[0m\u001b[1;33m(\u001b[0m\u001b[0msanitize_sequence\u001b[0m\u001b[1;33m,\u001b[0m \u001b[0margs\u001b[0m\u001b[1;33m)\u001b[0m\u001b[1;33m,\u001b[0m \u001b[1;33m**\u001b[0m\u001b[0mkwargs\u001b[0m\u001b[1;33m)\u001b[0m\u001b[1;33m\u001b[0m\u001b[1;33m\u001b[0m\u001b[0m\n\u001b[0m\u001b[0;32m   1600\u001b[0m \u001b[1;33m\u001b[0m\u001b[0m\n\u001b[0;32m   1601\u001b[0m         \u001b[0mbound\u001b[0m \u001b[1;33m=\u001b[0m \u001b[0mnew_sig\u001b[0m\u001b[1;33m.\u001b[0m\u001b[0mbind\u001b[0m\u001b[1;33m(\u001b[0m\u001b[0max\u001b[0m\u001b[1;33m,\u001b[0m \u001b[1;33m*\u001b[0m\u001b[0margs\u001b[0m\u001b[1;33m,\u001b[0m \u001b[1;33m**\u001b[0m\u001b[0mkwargs\u001b[0m\u001b[1;33m)\u001b[0m\u001b[1;33m\u001b[0m\u001b[1;33m\u001b[0m\u001b[0m\n",
      "\u001b[1;32m~\\Anaconda3\\lib\\site-packages\\matplotlib\\axes\\_axes.py\u001b[0m in \u001b[0;36mhist\u001b[1;34m(self, x, bins, range, density, weights, cumulative, bottom, histtype, align, orientation, rwidth, log, color, label, stacked, normed, **kwargs)\u001b[0m\n\u001b[0;32m   6773\u001b[0m             \u001b[1;31m# this will automatically overwrite bins,\u001b[0m\u001b[1;33m\u001b[0m\u001b[1;33m\u001b[0m\u001b[1;33m\u001b[0m\u001b[0m\n\u001b[0;32m   6774\u001b[0m             \u001b[1;31m# so that each histogram uses the same bins\u001b[0m\u001b[1;33m\u001b[0m\u001b[1;33m\u001b[0m\u001b[1;33m\u001b[0m\u001b[0m\n\u001b[1;32m-> 6775\u001b[1;33m             \u001b[0mm\u001b[0m\u001b[1;33m,\u001b[0m \u001b[0mbins\u001b[0m \u001b[1;33m=\u001b[0m \u001b[0mnp\u001b[0m\u001b[1;33m.\u001b[0m\u001b[0mhistogram\u001b[0m\u001b[1;33m(\u001b[0m\u001b[0mx\u001b[0m\u001b[1;33m[\u001b[0m\u001b[0mi\u001b[0m\u001b[1;33m]\u001b[0m\u001b[1;33m,\u001b[0m \u001b[0mbins\u001b[0m\u001b[1;33m,\u001b[0m \u001b[0mweights\u001b[0m\u001b[1;33m=\u001b[0m\u001b[0mw\u001b[0m\u001b[1;33m[\u001b[0m\u001b[0mi\u001b[0m\u001b[1;33m]\u001b[0m\u001b[1;33m,\u001b[0m \u001b[1;33m**\u001b[0m\u001b[0mhist_kwargs\u001b[0m\u001b[1;33m)\u001b[0m\u001b[1;33m\u001b[0m\u001b[1;33m\u001b[0m\u001b[0m\n\u001b[0m\u001b[0;32m   6776\u001b[0m             \u001b[0mm\u001b[0m \u001b[1;33m=\u001b[0m \u001b[0mm\u001b[0m\u001b[1;33m.\u001b[0m\u001b[0mastype\u001b[0m\u001b[1;33m(\u001b[0m\u001b[0mfloat\u001b[0m\u001b[1;33m)\u001b[0m  \u001b[1;31m# causes problems later if it's an int\u001b[0m\u001b[1;33m\u001b[0m\u001b[1;33m\u001b[0m\u001b[0m\n\u001b[0;32m   6777\u001b[0m             \u001b[1;32mif\u001b[0m \u001b[0mmlast\u001b[0m \u001b[1;32mis\u001b[0m \u001b[1;32mNone\u001b[0m\u001b[1;33m:\u001b[0m\u001b[1;33m\u001b[0m\u001b[1;33m\u001b[0m\u001b[0m\n",
      "\u001b[1;32m<__array_function__ internals>\u001b[0m in \u001b[0;36mhistogram\u001b[1;34m(*args, **kwargs)\u001b[0m\n",
      "\u001b[1;32m~\\Anaconda3\\lib\\site-packages\\numpy\\lib\\histograms.py\u001b[0m in \u001b[0;36mhistogram\u001b[1;34m(a, bins, range, normed, weights, density)\u001b[0m\n\u001b[0;32m    793\u001b[0m     \u001b[0ma\u001b[0m\u001b[1;33m,\u001b[0m \u001b[0mweights\u001b[0m \u001b[1;33m=\u001b[0m \u001b[0m_ravel_and_check_weights\u001b[0m\u001b[1;33m(\u001b[0m\u001b[0ma\u001b[0m\u001b[1;33m,\u001b[0m \u001b[0mweights\u001b[0m\u001b[1;33m)\u001b[0m\u001b[1;33m\u001b[0m\u001b[1;33m\u001b[0m\u001b[0m\n\u001b[0;32m    794\u001b[0m \u001b[1;33m\u001b[0m\u001b[0m\n\u001b[1;32m--> 795\u001b[1;33m     \u001b[0mbin_edges\u001b[0m\u001b[1;33m,\u001b[0m \u001b[0muniform_bins\u001b[0m \u001b[1;33m=\u001b[0m \u001b[0m_get_bin_edges\u001b[0m\u001b[1;33m(\u001b[0m\u001b[0ma\u001b[0m\u001b[1;33m,\u001b[0m \u001b[0mbins\u001b[0m\u001b[1;33m,\u001b[0m \u001b[0mrange\u001b[0m\u001b[1;33m,\u001b[0m \u001b[0mweights\u001b[0m\u001b[1;33m)\u001b[0m\u001b[1;33m\u001b[0m\u001b[1;33m\u001b[0m\u001b[0m\n\u001b[0m\u001b[0;32m    796\u001b[0m \u001b[1;33m\u001b[0m\u001b[0m\n\u001b[0;32m    797\u001b[0m     \u001b[1;31m# Histogram is an integer or a float array depending on the weights.\u001b[0m\u001b[1;33m\u001b[0m\u001b[1;33m\u001b[0m\u001b[1;33m\u001b[0m\u001b[0m\n",
      "\u001b[1;32m~\\Anaconda3\\lib\\site-packages\\numpy\\lib\\histograms.py\u001b[0m in \u001b[0;36m_get_bin_edges\u001b[1;34m(a, bins, range, weights)\u001b[0m\n\u001b[0;32m    427\u001b[0m             \u001b[1;32mraise\u001b[0m \u001b[0mValueError\u001b[0m\u001b[1;33m(\u001b[0m\u001b[1;34m'`bins` must be positive, when an integer'\u001b[0m\u001b[1;33m)\u001b[0m\u001b[1;33m\u001b[0m\u001b[1;33m\u001b[0m\u001b[0m\n\u001b[0;32m    428\u001b[0m \u001b[1;33m\u001b[0m\u001b[0m\n\u001b[1;32m--> 429\u001b[1;33m         \u001b[0mfirst_edge\u001b[0m\u001b[1;33m,\u001b[0m \u001b[0mlast_edge\u001b[0m \u001b[1;33m=\u001b[0m \u001b[0m_get_outer_edges\u001b[0m\u001b[1;33m(\u001b[0m\u001b[0ma\u001b[0m\u001b[1;33m,\u001b[0m \u001b[0mrange\u001b[0m\u001b[1;33m)\u001b[0m\u001b[1;33m\u001b[0m\u001b[1;33m\u001b[0m\u001b[0m\n\u001b[0m\u001b[0;32m    430\u001b[0m \u001b[1;33m\u001b[0m\u001b[0m\n\u001b[0;32m    431\u001b[0m     \u001b[1;32melif\u001b[0m \u001b[0mnp\u001b[0m\u001b[1;33m.\u001b[0m\u001b[0mndim\u001b[0m\u001b[1;33m(\u001b[0m\u001b[0mbins\u001b[0m\u001b[1;33m)\u001b[0m \u001b[1;33m==\u001b[0m \u001b[1;36m1\u001b[0m\u001b[1;33m:\u001b[0m\u001b[1;33m\u001b[0m\u001b[1;33m\u001b[0m\u001b[0m\n",
      "\u001b[1;32m~\\Anaconda3\\lib\\site-packages\\numpy\\lib\\histograms.py\u001b[0m in \u001b[0;36m_get_outer_edges\u001b[1;34m(a, range)\u001b[0m\n\u001b[0;32m    317\u001b[0m         \u001b[1;32mif\u001b[0m \u001b[1;32mnot\u001b[0m \u001b[1;33m(\u001b[0m\u001b[0mnp\u001b[0m\u001b[1;33m.\u001b[0m\u001b[0misfinite\u001b[0m\u001b[1;33m(\u001b[0m\u001b[0mfirst_edge\u001b[0m\u001b[1;33m)\u001b[0m \u001b[1;32mand\u001b[0m \u001b[0mnp\u001b[0m\u001b[1;33m.\u001b[0m\u001b[0misfinite\u001b[0m\u001b[1;33m(\u001b[0m\u001b[0mlast_edge\u001b[0m\u001b[1;33m)\u001b[0m\u001b[1;33m)\u001b[0m\u001b[1;33m:\u001b[0m\u001b[1;33m\u001b[0m\u001b[1;33m\u001b[0m\u001b[0m\n\u001b[0;32m    318\u001b[0m             raise ValueError(\n\u001b[1;32m--> 319\u001b[1;33m                 \"supplied range of [{}, {}] is not finite\".format(first_edge, last_edge))\n\u001b[0m\u001b[0;32m    320\u001b[0m     \u001b[1;32melif\u001b[0m \u001b[0ma\u001b[0m\u001b[1;33m.\u001b[0m\u001b[0msize\u001b[0m \u001b[1;33m==\u001b[0m \u001b[1;36m0\u001b[0m\u001b[1;33m:\u001b[0m\u001b[1;33m\u001b[0m\u001b[1;33m\u001b[0m\u001b[0m\n\u001b[0;32m    321\u001b[0m         \u001b[1;31m# handle empty arrays. Can't determine range, so use 0-1.\u001b[0m\u001b[1;33m\u001b[0m\u001b[1;33m\u001b[0m\u001b[1;33m\u001b[0m\u001b[0m\n",
      "\u001b[1;31mValueError\u001b[0m: supplied range of [-inf, 4.430816798843313] is not finite"
     ]
    },
    {
     "data": {
      "image/png": "[encoded data removed]",
      "text/plain": [
       "<Figure size 1440x360 with 2 Axes>"
      ]
     },
     "metadata": {},
     "output_type": "display_data"
    }
   ],
   "source": [
    "fig, ax = plt.subplots(1,2,figsize=(20,5))\n",
    "sns.distplot(daily_data.Quantity.values, kde=True, ax=ax[0], color=\"Orange\", bins=30);\n",
    "sns.distplot(np.log(daily_data.Quantity.values), kde=True, ax=ax[1], color=\"Orange\", bins=30);\n",
    "ax[0].set_xlabel(\"Number of daily product sales\");\n",
    "ax[0].set_ylabel(\"Frequency\");\n",
    "ax[0].set_title(\"How many products are sold per day?\");"
   ]
  },
  {
   "cell_type": "markdown",
   "metadata": {
    "_uuid": "be654993563a9a320962f391b2aa30ee72cfde42"
   },
   "source": [
    "We can see that the distributions are **right skewed. Lower values are more common**. In addition the daily sales quantities seem to be **multimodal**. A daily sale of 1 is common as well as a quantity of 12 and 24. This pattern is very interesting and leads to the conclusion that quantities are often divisible by 2 or 3. In a nutshell we can say that specific products are often bought as single quantites or in a small bunch."
   ]
  },
  {
   "cell_type": "markdown",
   "metadata": {
    "_uuid": "7d809ec284c26143dcdeee264b3e183974372843"
   },
   "source": [
    "## How to predict daily product sales? <a class=\"anchor\" id=\"model\"></a>\n",
    "\n",
    "In this kernel I like to use [catboost ](https://catboost.ai/) as predictive model. The prediction of daily quantities and revenues are both regression tasks and consequently I will use the catboost regressor. The loss and metric I like to use is the [root mean square error](https://en.wikipedia.org/wiki/Root-mean-square_deviation) (RMSE):\n",
    "\n",
    "$$ E = \\sqrt{ \\frac{1}{N}\\sum_{n=1}^{N} (t_{n} - y_{n})^{2}}$$\n",
    "\n",
    "It computes the error between the target value $t_{n}$ and the predicted value $y_{n}$ per sample, takes the square to make sure that both, positive and negative deviations, contribute to the sum the same way. Then the mean is taken by dividing with the total amount $N$ of samples (entries) in the data. And finally to obtain an impression of the error for single predictions, the root is taken. What should we keep in mind when working with this loss and metric function? :-) It's heavily influenced by outliers! **If we have some predictions that are far away from the targets, they will guide the mean towards higher values as well. Hence it could be that we will make nice predictions for a majority of samples but the RMSE is still high due to high errors for a minority of samples**. "
   ]
  },
  {
   "cell_type": "markdown",
   "metadata": {
    "_uuid": "0bce33879cacbf9855053b89d43c3adc796c835a"
   },
   "source": [
    "### Validation strategy\n",
    "\n",
    "As the **data covers only one year and we have a high increase of sold products during pre-christmas period**, we need to select validation data carefully. I will start with validation data that covers at least 8 full weeks (+ remaining days). After generating new features by exploring the data, I will use a sliding window time series validation that should help us to understand if the model is able to solve the prediction task during both times: pre-christmas season and non-christmas season. "
   ]
  },
  {
   "cell_type": "markdown",
   "metadata": {
    "_uuid": "75b0527a2186a2c092062a06cd14a4a9d963fa7e"
   },
   "source": [
    "### Catboost family and hyperparameter class <a class=\"anchor\" id=\"classes\"></a>\n",
    "\n",
    "To easily generate new models and compare results between them I wrote some classes:"
   ]
  },
  {
   "cell_type": "markdown",
   "metadata": {
    "_uuid": "ab042f46fe1cd02d755b7fb127a4d7f477f8446f"
   },
   "source": [
    "**Hyperparameter Class**\n",
    "\n",
    "This class holds all important hyperparameters we have to set before training like the loss function, the evaluation metric, the max depth of trees, the number of max number of trees (iterations) and the l2_leaf_reg for regularization to avoid overfitting. "
   ]
  },
  {
   "cell_type": "code",
   "execution_count": null,
   "metadata": {
    "_kg_hide-input": true,
    "_uuid": "7b1056bd8f70a38c868b5173133c91ac86dcfa08"
   },
   "outputs": [],
   "source": [
    "class CatHyperparameter:\n",
    "    \n",
    "    def __init__(self,\n",
    "                 loss=\"RMSE\",\n",
    "                 metric=\"RMSE\",\n",
    "                 iterations=1000,\n",
    "                 max_depth=4,\n",
    "                 l2_leaf_reg=3,\n",
    "                 #learning_rate=0.5,\n",
    "                 seed=0):\n",
    "        self.loss = loss,\n",
    "        self.metric = metric,\n",
    "        self.max_depth = max_depth,\n",
    "        self.l2_leaf_reg = l2_leaf_reg,\n",
    "        #self.learning_rate = learning_rate,\n",
    "        self.iterations=iterations\n",
    "        self.seed = seed"
   ]
  },
  {
   "cell_type": "markdown",
   "metadata": {
    "_uuid": "65e9f071e58cd238f53d5a392e99e3b6220b1e72"
   },
   "source": [
    "**Catmodel class**\n",
    "\n",
    "This model obtains a train & validation pool as data or pandas dataframes for features X and targets y together with a week. It's the first week of our validation data and all other weeks above are used as well. It trains the model and can show learning process as well as feature importances and some figures for result analysis. It's the fastest choice you can make for playing around."
   ]
  },
  {
   "cell_type": "code",
   "execution_count": null,
   "metadata": {
    "_kg_hide-input": true,
    "_uuid": "4e0f66a0ec6e90c1f59903759d3401b30de3b2a5"
   },
   "outputs": [],
   "source": [
    "class Catmodel:\n",
    "    \n",
    "    def __init__(self, name, params):\n",
    "        self.name = name\n",
    "        self.params = params\n",
    "    \n",
    "    def set_data_pool(self, train_pool, val_pool):\n",
    "        self.train_pool = train_pool\n",
    "        self.val_pool = val_pool\n",
    "    \n",
    "    def set_data(self, X, y, week):\n",
    "        cat_features_idx = np.where(X.dtypes != np.float)[0]\n",
    "        x_train, self.x_val = X.loc[X.Week < week], X.loc[X.Week >= week]\n",
    "        y_train, self.y_val = y.loc[X.Week < week], y.loc[X.Week >= week]\n",
    "        self.train_pool = Pool(x_train, y_train, cat_features=cat_features_idx)\n",
    "        self.val_pool = Pool(self.x_val, self.y_val, cat_features=cat_features_idx)\n",
    "    \n",
    "    def prepare_model(self):\n",
    "        self.model = CatBoostRegressor(\n",
    "                loss_function = self.params.loss[0],\n",
    "                random_seed = self.params.seed,\n",
    "                logging_level = 'Silent',\n",
    "                iterations = self.params.iterations,\n",
    "                max_depth = self.params.max_depth[0],\n",
    "                #learning_rate = self.params.learning_rate[0],\n",
    "                l2_leaf_reg = self.params.l2_leaf_reg[0],\n",
    "                od_type='Iter',\n",
    "                od_wait=40,\n",
    "                train_dir=self.name,\n",
    "                has_time=True\n",
    "            )\n",
    "    \n",
    "    def learn(self, plot=False):\n",
    "        self.prepare_model()\n",
    "        self.model.fit(self.train_pool, eval_set=self.val_pool, plot=plot);\n",
    "        print(\"{}, early-stopped model tree count {}\".format(\n",
    "            self.name, self.model.tree_count_\n",
    "        ))\n",
    "    \n",
    "    def score(self):\n",
    "        return self.model.score(self.val_pool)\n",
    "    \n",
    "    def show_importances(self, kind=\"bar\"):\n",
    "        explainer = shap.TreeExplainer(self.model)\n",
    "        shap_values = explainer.shap_values(self.val_pool)\n",
    "        if kind==\"bar\":\n",
    "            return shap.summary_plot(shap_values, self.x_val, plot_type=\"bar\")\n",
    "        return shap.summary_plot(shap_values, self.x_val)\n",
    "    \n",
    "    def get_val_results(self):\n",
    "        self.results = pd.DataFrame(self.y_val)\n",
    "        self.results[\"prediction\"] = self.predict(self.x_val)\n",
    "        self.results[\"error\"] = np.abs(\n",
    "            self.results[self.results.columns.values[0]].values - self.results.prediction)\n",
    "        self.results[\"Month\"] = self.x_val.Month\n",
    "        self.results[\"SquaredError\"] = self.results.error.apply(lambda l: np.power(l, 2))\n",
    "    \n",
    "    def show_val_results(self):\n",
    "        self.get_val_results()\n",
    "        fig, ax = plt.subplots(1,2,figsize=(20,5))\n",
    "        sns.distplot(self.results.error, ax=ax[0])\n",
    "        ax[0].set_xlabel(\"Single absolute error\")\n",
    "        ax[0].set_ylabel(\"Density\")\n",
    "        self.median_absolute_error = np.median(self.results.error)\n",
    "        print(\"Median absolute error: {}\".format(self.median_absolute_error))\n",
    "        ax[0].axvline(self.median_absolute_error, c=\"black\")\n",
    "        ax[1].scatter(self.results.prediction.values,\n",
    "                      self.results[self.results.columns[0]].values,\n",
    "                      c=self.results.error, cmap=\"RdYlBu_r\", s=1)\n",
    "        ax[1].set_xlabel(\"Prediction\")\n",
    "        ax[1].set_ylabel(\"Target\")\n",
    "        return ax\n",
    "    \n",
    "    def get_monthly_RMSE(self):\n",
    "        return self.results.groupby(\"Month\").SquaredError.mean().apply(lambda l: np.sqrt(l))\n",
    "        \n",
    "    def predict(self, x):\n",
    "        return self.model.predict(x)\n",
    "    \n",
    "    def get_dependence_plot(self, feature1, feature2=None):\n",
    "        explainer = shap.TreeExplainer(self.model)\n",
    "        shap_values = explainer.shap_values(self.val_pool)\n",
    "        if feature2 is None:\n",
    "            return shap.dependence_plot(\n",
    "                feature1,\n",
    "                shap_values,\n",
    "                self.x_val,\n",
    "            )\n",
    "        else:\n",
    "            return shap.dependence_plot(\n",
    "                feature1,\n",
    "                shap_values,\n",
    "                self.x_val,\n",
    "                interaction_index=feature2\n",
    "            )\n",
    "    \n",
    "    "
   ]
  },
  {
   "cell_type": "markdown",
   "metadata": {
    "_uuid": "bad8194759225b7782e0112a2a3d06d6e5da58d6"
   },
   "source": [
    "**Hyperparameter-Search class**\n",
    "\n",
    "This is a class for hyperparameter search that uses Bayesian Optimization and Gaussian Process Regression to find optimal hyperparameters. I decided to use this method as the computation of the score for one catfamily model may be expensive. In this case bayesian optimization could be a plus. As this optimization methods takes some time as well you should try random search as well as this may be faster. "
   ]
  },
  {
   "cell_type": "code",
   "execution_count": null,
   "metadata": {
    "_kg_hide-input": true,
    "_uuid": "47ad9378cfbab74f12f6a21ae04ef0211923b83f"
   },
   "outputs": [],
   "source": [
    "import GPyOpt\n",
    "\n",
    "class Hypertuner:\n",
    "    \n",
    "    def __init__(self, model, max_iter=10, max_time=10,max_depth=6, max_l2_leaf_reg=20):\n",
    "        self.bounds = [{'name': 'depth','type': 'discrete','domain': (1,max_depth)},\n",
    "                       {'name': 'l2_leaf_reg','type': 'discrete','domain': (1,max_l2_leaf_reg)}]\n",
    "        self.model = model\n",
    "        self.max_iter=max_iter\n",
    "        self.max_time=max_time\n",
    "        self.best_depth = None\n",
    "        self.best_l2_leaf_reg = None\n",
    "    \n",
    "    def objective(self, params):\n",
    "        params = params[0]\n",
    "        params = CatHyperparameter(\n",
    "            max_depth=params[0],\n",
    "            l2_leaf_reg=params[1]\n",
    "        )\n",
    "        self.model.params = params\n",
    "        self.model.learn()\n",
    "        return self.model.score()\n",
    "    \n",
    "    def learn(self):\n",
    "        np.random.seed(777)\n",
    "        optimizer = GPyOpt.methods.BayesianOptimization(\n",
    "            f=self.objective, domain=self.bounds,\n",
    "            acquisition_type ='EI',\n",
    "            acquisition_par = 0.2,\n",
    "            exact_eval=True)\n",
    "        optimizer.run_optimization(self.max_iter, self.max_time)\n",
    "        optimizer.plot_convergence()\n",
    "        best = optimizer.X[np.argmin(optimizer.Y)]\n",
    "        self.best_depth = best[0]\n",
    "        self.best_l2_leaf_reg = best[1]\n",
    "        print(\"Optimal depth is {} and optimal l2-leaf-reg is {}\".format(self.best_depth, self.best_l2_leaf_reg))\n",
    "        print('Optimal RMSE:', np.min(optimizer.Y))\n",
    "    \n",
    "    def retrain_catmodel(self):\n",
    "        params = CatHyperparameter(\n",
    "            max_depth=self.best_depth,\n",
    "            l2_leaf_reg=self.best_l2_leaf_reg\n",
    "        )\n",
    "        self.model.params = params\n",
    "        self.model.learn(plot=True)\n",
    "        return self.model"
   ]
  },
  {
   "cell_type": "markdown",
   "metadata": {
    "_uuid": "2aec4b4c4db2d888860aef36957cbf78509fcd0e"
   },
   "source": [
    "**Time series validation Catfamily**\n",
    "\n",
    "This model holds the information about how to split the data into validation chunks and it organizes the training with sliding window validation. Furthermore it can return a score as the mean over all RMSE scores of its models. "
   ]
  },
  {
   "cell_type": "code",
   "execution_count": null,
   "metadata": {
    "_kg_hide-input": true,
    "_uuid": "3f2769423d74da04baf5256fd9c4e2c436057d09"
   },
   "outputs": [],
   "source": [
    "class CatFamily:\n",
    "    \n",
    "    def __init__(self, params, X, y, n_splits=2):\n",
    "        self.family = {}\n",
    "        self.cat_features_idx = np.where(X.dtypes != np.float)[0]\n",
    "        self.X = X.values\n",
    "        self.y = y.values\n",
    "        self.n_splits = n_splits\n",
    "        self.params = params\n",
    "    \n",
    "    def set_validation_strategy(self):\n",
    "        self.cv = TimeSeriesSplit(max_train_size = None,\n",
    "                                  n_splits = self.n_splits)\n",
    "        self.gen = self.cv.split(self.X)\n",
    "    \n",
    "    def get_split(self):\n",
    "        train_idx, val_idx = next(self.gen)\n",
    "        x_train, x_val = self.X[train_idx], self.X[val_idx]\n",
    "        y_train, y_val = self.y[train_idx], self.y[val_idx]\n",
    "        train_pool = Pool(x_train, y_train, cat_features=self.cat_features_idx)\n",
    "        val_pool = Pool(x_val, y_val, cat_features=self.cat_features_idx)\n",
    "        return train_pool, val_pool\n",
    "    \n",
    "    def learn(self):\n",
    "        self.set_validation_strategy()\n",
    "        self.model_names = []\n",
    "        self.model_scores = []\n",
    "        for split in range(self.n_splits):\n",
    "            name = 'Model_cv_' + str(split) + '/'\n",
    "            train_pool, val_pool = self.get_split()\n",
    "            self.model_names.append(name)\n",
    "            self.family[name], score = self.fit_catmodel(name, train_pool, val_pool)\n",
    "            self.model_scores.append(score)\n",
    "    \n",
    "    def fit_catmodel(self, name, train_pool, val_pool):\n",
    "        cat = Catmodel(name, train_pool, val_pool, self.params)\n",
    "        cat.prepare_model()\n",
    "        cat.learn()\n",
    "        score = cat.score()\n",
    "        return cat, score\n",
    "    \n",
    "    def score(self):\n",
    "        return np.mean(self.model_scores)\n",
    "    \n",
    "    def show_learning(self):\n",
    "        widget = MetricVisualizer(self.model_names)\n",
    "        widget.start()\n",
    "\n",
    "    def show_importances(self):\n",
    "        name = self.model_names[-1]\n",
    "        cat = self.family[name]\n",
    "        explainer = shap.TreeExplainer(cat.model)\n",
    "        shap_values = explainer.shap_values(cat.val_pool)\n",
    "        return shap.summary_plot(shap_values, X, plot_type=\"bar\")"
   ]
  },
  {
   "cell_type": "markdown",
   "metadata": {
    "_uuid": "b615c2988eba1f9bd8785bb11eab65055b04d346"
   },
   "source": [
    "### Baseline model & result analysis  <a class=\"anchor\" id=\"baseline\"></a>\n",
    "\n",
    "Let's see how good this model performs without feature engineering and hyperparameter search:"
   ]
  },
  {
   "cell_type": "code",
   "execution_count": null,
   "metadata": {
    "_uuid": "3e3da81bb8ae9159c4e64514bcb3b8ec2530e366"
   },
   "outputs": [],
   "source": [
    "daily_data.head()"
   ]
  },
  {
   "cell_type": "code",
   "execution_count": null,
   "metadata": {
    "_uuid": "f086a28865e4faf4e141ea9f8a6dfe7404644c68"
   },
   "outputs": [],
   "source": [
    "week = daily_data.Week.max() - 2\n",
    "print(\"Validation after week {}\".format(week))\n",
    "print(\"Validation starts at timepoint {}\".format(\n",
    "    daily_data[daily_data.Week==week].Date.min()\n",
    "))"
   ]
  },
  {
   "cell_type": "code",
   "execution_count": null,
   "metadata": {
    "_uuid": "728215f960e50fc55a7fa7392f429050fded5ea4"
   },
   "outputs": [],
   "source": [
    "X = daily_data.drop([\"Quantity\", \"Revenue\", \"Date\"], axis=1)\n",
    "daily_data.Quantity = np.log(daily_data.Quantity)\n",
    "y = daily_data.Quantity\n",
    "params = CatHyperparameter()\n",
    "\n",
    "model = Catmodel(\"baseline\", params)\n",
    "model.set_data(X,y, week)\n",
    "model.learn(plot=True)"
   ]
  },
  {
   "cell_type": "markdown",
   "metadata": {
    "_uuid": "a29b1c584e06ec8a24130e9538c09e475408e0d4"
   },
   "source": [
    "If you have forked this kernel and are in interactive model you can see that the model loss has converged. How big is the evaluated root mean square error on validation data?"
   ]
  },
  {
   "cell_type": "code",
   "execution_count": null,
   "metadata": {
    "_uuid": "9305d093b4866baf5966310760bd0c00e3cd626e"
   },
   "outputs": [],
   "source": [
    "model.score()"
   ]
  },
  {
   "cell_type": "markdown",
   "metadata": {
    "_uuid": "a9eab9032740f20b97b107cd194cb673a1288c94"
   },
   "source": [
    "This value is high, but as already mentioned the RSME is influenced by outliers and we should take a look at the distribution of individual absolute errors:"
   ]
  },
  {
   "cell_type": "code",
   "execution_count": null,
   "metadata": {
    "_uuid": "a518c78a42f892856924720154df272c7b2d0cba"
   },
   "outputs": [],
   "source": [
    "model.show_val_results();"
   ]
  },
  {
   "cell_type": "markdown",
   "metadata": {
    "_uuid": "8e096366f75edf18b919c299d4dcd005df112ef7"
   },
   "source": [
    "* We can see that the **distribution of absolute errors of single predictions is right skewed.** \n",
    "* The **median single error (black) is half of the RMSE score and significantly lower**. \n",
    "* By plotting the target versus prediction we can see that we **made higher errors for validation entries that have high true quantity values above 30**. The strong blue line shows the identity where predictions are close to target values. **To improve we need to make better predictions for products with true high quantities during validation time**. "
   ]
  },
  {
   "cell_type": "code",
   "execution_count": null,
   "metadata": {
    "_uuid": "354eed0f35550754cc8dd68b17d5b91d9a3968b2"
   },
   "outputs": [],
   "source": [
    "model.show_importances()"
   ]
  },
  {
   "cell_type": "markdown",
   "metadata": {
    "_uuid": "3467dbea55806c8c2ef20399b4beb9fe81fe9c03"
   },
   "source": [
    "* We can see that the **stock code as well as the description of the products are very important**. They do not have a color as they are not numerical and do not have low or high values. \n",
    "* The **weekday** is an important feature as well. We have already seen this by exploring the data. Low values from monday up to thursday are those days where the retailer sales most products. In contrast high values (friday to sunday) only yield a few sales. "
   ]
  },
  {
   "cell_type": "code",
   "execution_count": null,
   "metadata": {
    "_uuid": "396b570216edf883620074ea78eee79617c24244"
   },
   "outputs": [],
   "source": [
    "model.show_importances(kind=None)"
   ]
  },
  {
   "cell_type": "markdown",
   "metadata": {
    "_uuid": "ad3a00b0662b1180d9511e19ad475308df4cf74f"
   },
   "source": [
    "* Take a look at the **weekday to understand this plot**: Low values (0 to 3) correspond to Monday, Tuesday, Wednesday and Thursday. These are days with high amount of product sales (high quantity target values). They are colored in blue and **push towards higher sharp values and consequently to higher predicted quantity values**. Higher weekday values suite to friday, saturday and sunday. They are colored in red and **push towards negative sharp values and to lower predicted values**. This confirms to the observations we made during exploration of weekday and the sum of daily quantities.    \n",
    "* The **StockCode and the Description** are important features but they are also **very complex**. We have seen that we have close to 4000 different stock codes and even more descriptions. To improve we should **try to engineer features that are able to descripe the products in a more general way**. "
   ]
  },
  {
   "cell_type": "code",
   "execution_count": null,
   "metadata": {
    "_uuid": "2e7c9dc1a1699bf6b02a4600df76da38e5bec700"
   },
   "outputs": [],
   "source": [
    "np.mean(np.abs(np.exp(model.results.prediction) - np.exp(model.results.Quantity)))"
   ]
  },
  {
   "cell_type": "code",
   "execution_count": null,
   "metadata": {
    "_uuid": "7a007299c8bfd4581e54f8d3284905abc9b9f0ca"
   },
   "outputs": [],
   "source": [
    "np.median(np.abs(np.exp(model.results.prediction) - np.exp(model.results.Quantity)))"
   ]
  },
  {
   "cell_type": "markdown",
   "metadata": {
    "_uuid": "d804d8e7d2aa13f18c7633d16aba8cba245635a5"
   },
   "source": [
    "### Bayesian Hyperparameter Search with GPyOpt <a class=\"anchor\" id=\"hypersearch\"></a>\n",
    "\n",
    "Ok, now we have gained some feeling for a single model. Let's find out if we can obtain a better score after hyperparameter search:"
   ]
  },
  {
   "cell_type": "code",
   "execution_count": null,
   "metadata": {
    "_uuid": "7f18e479354cfa5b7aebca6fddfb7568aee2b176"
   },
   "outputs": [],
   "source": [
    "#search = Hypertuner(model, max_depth=5, max_l2_leaf_reg=30)\n",
    "#search.learn()\n",
    "#model = search.retrain_catmodel()\n",
    "#print(model.score())\n",
    "#model.show_importances(kind=None)"
   ]
  },
  {
   "cell_type": "markdown",
   "metadata": {
    "_uuid": "7d80fafd43a0cb70db14dbf537326d9b2abd4759"
   },
   "source": [
    "## Feature engineering"
   ]
  },
  {
   "cell_type": "markdown",
   "metadata": {
    "_uuid": "48256c61aa85332186abe8ac25b12094a7865543"
   },
   "source": [
    "### Creating product types"
   ]
  },
  {
   "cell_type": "code",
   "execution_count": null,
   "metadata": {
    "_uuid": "e53857611c36c257bebf5474111c7edfdbf81f04"
   },
   "outputs": [],
   "source": [
    "products = pd.DataFrame(index=data.loc[data.Week < week].StockCode.unique(), columns = [\"MedianPrice\"])\n",
    "\n",
    "products[\"MedianPrice\"] = data.loc[data.Week < week].groupby(\"StockCode\").UnitPrice.median()\n",
    "products[\"MedianQuantities\"] = data.loc[data.Week < week].groupby(\"StockCode\").Quantity.median()\n",
    "products[\"Customers\"] = data.loc[data.Week < week].groupby(\"StockCode\").CustomerID.nunique()\n",
    "products[\"DescriptionLength\"] = data.loc[data.Week < week].groupby(\"StockCode\").DescriptionLength.median()\n",
    "#products[\"StockCode\"] = products.index.values\n",
    "org_cols = np.copy(products.columns.values)\n",
    "products.head()"
   ]
  },
  {
   "cell_type": "code",
   "execution_count": null,
   "metadata": {
    "_uuid": "36638fc5b99d712907c110e56edad7a232a0f11d"
   },
   "outputs": [],
   "source": [
    "for col in org_cols:\n",
    "    if col != \"StockCode\":\n",
    "        products[col] = boxcox(products[col])[0]"
   ]
  },
  {
   "cell_type": "code",
   "execution_count": null,
   "metadata": {
    "_kg_hide-input": true,
    "_uuid": "968cd111234a1f540209bb3ddb8894ddfa012ee2"
   },
   "outputs": [],
   "source": [
    "fig, ax = plt.subplots(1,3,figsize=(20,5))\n",
    "ax[0].scatter(products.MedianPrice.values, products.MedianQuantities.values,\n",
    "           c=products.Customers.values, cmap=\"coolwarm_r\")\n",
    "ax[0].set_xlabel(\"Boxcox-Median-UnitPrice\")\n",
    "ax[0].set_ylabel(\"Boxcox-Median-Quantities\")"
   ]
  },
  {
   "cell_type": "code",
   "execution_count": null,
   "metadata": {
    "_uuid": "59bd759059b791c9e706db796db770e86ef186a4"
   },
   "outputs": [],
   "source": [
    "X = products.values\n",
    "scaler = StandardScaler()\n",
    "X = scaler.fit_transform(X)"
   ]
  },
  {
   "cell_type": "code",
   "execution_count": null,
   "metadata": {
    "_uuid": "cc0e33d483e0ab1a31c1ffb9d4519a0c86056046"
   },
   "outputs": [],
   "source": [
    "km = KMeans(n_clusters=30)\n",
    "products[\"cluster\"] = km.fit_predict(X)\n",
    "\n",
    "daily_data[\"ProductType\"] = daily_data.StockCode.map(products.cluster)\n",
    "daily_data.ProductType = daily_data.ProductType.astype(\"object\")\n",
    "daily_data.head()"
   ]
  },
  {
   "cell_type": "markdown",
   "metadata": {
    "_uuid": "be969c0f565b6ae2116625d7e092d5501d14810f"
   },
   "source": [
    "## Baseline for product types"
   ]
  },
  {
   "cell_type": "code",
   "execution_count": null,
   "metadata": {
    "_uuid": "afb436f0c4e120a626a9197a2c16a182896d4ec1"
   },
   "outputs": [],
   "source": [
    "daily_data[\"KnownStockCodeUnitPriceMedian\"] = daily_data.StockCode.map(\n",
    "    data.groupby(\"StockCode\").UnitPrice.median())\n",
    "\n",
    "known_price_iqr = data.groupby(\"StockCode\").UnitPrice.quantile(0.75) \n",
    "known_price_iqr -= data.groupby(\"StockCode\").UnitPrice.quantile(0.25) \n",
    "daily_data[\"KnownStockCodeUnitPriceIQR\"] = daily_data.StockCode.map(known_price_iqr)"
   ]
  },
  {
   "cell_type": "code",
   "execution_count": null,
   "metadata": {
    "_uuid": "8ed75d4d4f0b8fdcf5d88c9de946497a14a18f4c"
   },
   "outputs": [],
   "source": [
    "to_group = [\"StockCode\", \"Year\", \"Month\", \"Week\", \"Weekday\"]\n",
    "\n",
    "daily_data = daily_data.set_index(to_group)\n",
    "daily_data[\"KnownStockCodePrice_WW_median\"] = daily_data.index.map(\n",
    "    data.groupby(to_group).UnitPrice.median())\n",
    "daily_data[\"KnownStockCodePrice_WW_mean\"] = daily_data.index.map(\n",
    "    data.groupby(to_group).UnitPrice.mean().apply(lambda l: np.round(l, 2)))\n",
    "daily_data[\"KnownStockCodePrice_WW_std\"] = daily_data.index.map(\n",
    "    data.groupby(to_group).UnitPrice.std().apply(lambda l: np.round(l, 2)))\n",
    "\n",
    "daily_data = daily_data.reset_index()"
   ]
  },
  {
   "cell_type": "code",
   "execution_count": null,
   "metadata": {
    "_uuid": "d70488af77e91d35f97fc7d935b377e120e90bda"
   },
   "outputs": [],
   "source": [
    "daily_data.head()"
   ]
  },
  {
   "cell_type": "markdown",
   "metadata": {
    "_uuid": "8b18c02049b2469daf6c8fdc0af942a2c10e7275"
   },
   "source": [
    "### Temporal patterns"
   ]
  },
  {
   "cell_type": "code",
   "execution_count": null,
   "metadata": {
    "_kg_hide-input": true,
    "_uuid": "e92cd17e78279e3ad04c8064b74900f0dbb59a26"
   },
   "outputs": [],
   "source": [
    "plt.figure(figsize=(20,5))\n",
    "plt.plot(daily_data.groupby(\"Date\").Quantity.sum(), marker='+', c=\"darkorange\")\n",
    "plt.plot(daily_data.groupby(\"Date\").Quantity.sum().rolling(window=30, center=True).mean(),\n",
    "        c=\"red\")\n",
    "plt.xticks(rotation=90);\n",
    "plt.title(\"How many quantities are sold per day over the given time?\");"
   ]
  },
  {
   "cell_type": "code",
   "execution_count": null,
   "metadata": {
    "_kg_hide-input": true,
    "_uuid": "842610c0b6a64521cef30a368dc1aa80081e94d7"
   },
   "outputs": [],
   "source": [
    "fig, ax = plt.subplots(1,2,figsize=(20,5))\n",
    "\n",
    "weekdays = [\"Monday\", \"Tuesday\", \"Wednesday\", \"Thursday\", \"Friday\", \"Saturday\", \"Sunday\"]\n",
    "yearmonth = [\"Dec-2010\", \"Jan-2011\", \"Feb-2011\", \"Mar-2011\", \"Apr-2011\", \"May-2011\",\n",
    "             \"Jun-2011\", \"Jul-1011\", \"Aug-2011\", \"Sep-2011\", \"Oct-2011\", \"Nov-2011\", \n",
    "             \"Dec-2011\"]\n",
    "\n",
    "daily_data.groupby(\"Weekday\").Quantity.sum().plot(\n",
    "    ax=ax[0], marker='o', label=\"Quantity\", c=\"darkorange\");\n",
    "ax[0].legend();\n",
    "ax[0].set_xticks(np.arange(0,7))\n",
    "ax[0].set_xticklabels(weekdays);\n",
    "ax[0].set_xlabel(\"\")\n",
    "ax[0].set_title(\"Total sales per weekday\");\n",
    "\n",
    "ax[1].plot(daily_data.groupby([\"Year\", \"Month\"]).Quantity.sum().values,\n",
    "    marker='o', label=\"Quantities\", c=\"darkorange\");\n",
    "ax[1].set_xticklabels(yearmonth, rotation=90)\n",
    "ax[1].set_xticks(np.arange(0, len(yearmonth)))\n",
    "ax[1].legend();\n",
    "ax[1].set_title(\"Total sales per month\");"
   ]
  },
  {
   "cell_type": "markdown",
   "metadata": {
    "_uuid": "9a9b466cecd1a3c0b127ec210b9d4a943df685c2"
   },
   "source": [
    "Both visualisations yield further interesting insights:\n",
    "\n",
    "* **Thursday** seems to be the day on which most products are sold. \n",
    "* In contrast **friday, and sunday** have very **low transactions** \n",
    "* On **saturday** there are **no transactions** at all\n",
    "* The **pre-Christmas season** starts in **september and shows a peak in november**\n",
    "* Indeed **february and april are month with very low sales**. \n",
    "\n",
    "Let's create some new features for our daily aggregation that may be helpful to make better predictions:"
   ]
  },
  {
   "cell_type": "code",
   "execution_count": null,
   "metadata": {
    "_uuid": "73150e971a862a8c36d490b7c549c2cfad76d9f6"
   },
   "outputs": [],
   "source": [
    "daily_data[\"PreChristmas\"] = (daily_data.Dayofyear <= 358) & (daily_data.Dayofyear >= 243) "
   ]
  },
  {
   "cell_type": "code",
   "execution_count": null,
   "metadata": {
    "_uuid": "700a5ac5603a95208d6e9371950f66a9e3586076"
   },
   "outputs": [],
   "source": [
    "for col in [\"Weekday\", \"Month\", \"Quarter\"]:\n",
    "    daily_data = daily_data.set_index(col)\n",
    "    daily_data[col+\"Quantity_mean\"] = daily_data.loc[daily_data.Week < week].groupby(col).Quantity.mean()\n",
    "    daily_data[col+\"Quantity_median\"] = daily_data.loc[daily_data.Week < week].groupby(col).Quantity.median()\n",
    "    daily_data[col+\"Quantity_mean_median_diff\"] = daily_data[col+\"Quantity_mean\"] - daily_data[col+\"Quantity_median\"]\n",
    "    daily_data[col+\"Quantity_IQR\"] = daily_data.loc[\n",
    "        daily_data.Week < week].groupby(col).Quantity.quantile(0.75) - daily_data.loc[\n",
    "        daily_data.Week < week].groupby(col).Quantity.quantile(0.25)\n",
    "    daily_data = daily_data.reset_index()\n",
    "daily_data.head()"
   ]
  },
  {
   "cell_type": "code",
   "execution_count": null,
   "metadata": {
    "_uuid": "c530649d6373c8d076ef5e3bbd791cb6c009c312"
   },
   "outputs": [],
   "source": [
    "to_group = [\"StockCode\", \"PreChristmas\"]\n",
    "daily_data = daily_data.set_index(to_group)\n",
    "daily_data[\"PreChristmasMeanQuantity\"] = daily_data.loc[\n",
    "    daily_data.Week < week].groupby(to_group).Quantity.mean().apply(lambda l: np.round(l, 1))\n",
    "daily_data[\"PreChristmasMedianQuantity\"] = daily_data.loc[\n",
    "    daily_data.Week < week].groupby(to_group).Quantity.median().apply(lambda l: np.round(l, 1))\n",
    "daily_data[\"PreChristmasStdQuantity\"] = daily_data.loc[\n",
    "    daily_data.Week < week].groupby(to_group).Quantity.std().apply(lambda l: np.round(l, 1))\n",
    "daily_data = daily_data.reset_index()"
   ]
  },
  {
   "cell_type": "markdown",
   "metadata": {
    "_uuid": "64390ae425428aae6b2dc92d1f399b498e8a1cc7"
   },
   "source": [
    "**Lag-Features:**"
   ]
  },
  {
   "cell_type": "code",
   "execution_count": null,
   "metadata": {
    "_uuid": "7631cf00705e5b195162b3ea607e80fcd7854b93"
   },
   "outputs": [],
   "source": [
    "for delta in range(1,4):\n",
    "    to_group = [\"Week\",\"Weekday\",\"ProductType\"]\n",
    "    daily_data = daily_data.set_index(to_group)\n",
    "        \n",
    "    daily_data[\"QuantityProducttypeWeekWeekdayLag_\" + str(delta) + \"_median\"] = daily_data.groupby(\n",
    "        to_group).Quantity.median().apply(lambda l: np.round(l,1)).shift(delta)\n",
    "    \n",
    "    daily_data = daily_data.reset_index()\n",
    "    daily_data.loc[daily_data.Week >= (week+delta),\n",
    "                   \"QuantityProductTypeWeekWeekdayLag_\" + str(delta) + \"_median\"] = np.nan\n",
    "    "
   ]
  },
  {
   "cell_type": "code",
   "execution_count": null,
   "metadata": {
    "_uuid": "23930b159bee9e7629203f7148648439d22330b0"
   },
   "outputs": [],
   "source": [
    "data[\"ProductType\"] = data.StockCode.map(products.cluster)"
   ]
  },
  {
   "cell_type": "code",
   "execution_count": null,
   "metadata": {
    "_uuid": "a7ae6c2106575ff9123635ca4f6258e1e8fe0216"
   },
   "outputs": [],
   "source": [
    "daily_data[\"TransactionsPerProductType\"] = daily_data.ProductType.map(data.loc[data.Week < week].groupby(\"ProductType\").InvoiceNo.nunique())"
   ]
  },
  {
   "cell_type": "markdown",
   "metadata": {
    "_uuid": "a0101bffd414acaa0153fc0d3540e7de3a431cc4"
   },
   "source": [
    "### About countries and customers\n",
    "\n"
   ]
  },
  {
   "cell_type": "code",
   "execution_count": null,
   "metadata": {
    "_uuid": "5bc222717b7b8d8e1906c15e636f3542f94776ba"
   },
   "outputs": [],
   "source": [
    "delta = 1\n",
    "to_group = [\"Week\", \"Weekday\", \"ProductType\"]\n",
    "daily_data = daily_data.set_index(to_group)\n",
    "daily_data[\"DummyWeekWeekdayAttraction\"] = data.groupby(to_group).CustomerID.nunique()\n",
    "daily_data[\"DummyWeekWeekdayMeanUnitPrice\"] = data.groupby(to_group).UnitPrice.mean().apply(lambda l: np.round(l, 2))\n",
    "\n",
    "daily_data[\"WeekWeekdayAttraction_Lag1\"] = daily_data[\"DummyWeekWeekdayAttraction\"].shift(1)\n",
    "daily_data[\"WeekWeekdayMeanUnitPrice_Lag1\"] = daily_data[\"DummyWeekWeekdayMeanUnitPrice\"].shift(1)\n",
    "\n",
    "daily_data = daily_data.reset_index()\n",
    "daily_data.loc[daily_data.Week >= (week + delta), \"WeekWeekdayAttraction_Lag1\"] = np.nan\n",
    "daily_data.loc[daily_data.Week >= (week + delta), \"WeekWeekdayMeanUnitPrice_Lag1\"] = np.nan\n",
    "daily_data = daily_data.drop([\"DummyWeekWeekdayAttraction\", \"DummyWeekWeekdayMeanUnitPrice\"], axis=1)"
   ]
  },
  {
   "cell_type": "code",
   "execution_count": null,
   "metadata": {
    "_uuid": "66d55473242ef57d9766c626fa580dbf21b9a87a"
   },
   "outputs": [],
   "source": [
    "daily_data[\"TransactionsPerStockCode\"] = daily_data.StockCode.map(\n",
    "    data.loc[data.Week < week].groupby(\"StockCode\").InvoiceNo.nunique())"
   ]
  },
  {
   "cell_type": "code",
   "execution_count": null,
   "metadata": {
    "_uuid": "6b7a04fff35696c8528dc70f5110395310c9f24c"
   },
   "outputs": [],
   "source": [
    "daily_data.head()"
   ]
  },
  {
   "cell_type": "code",
   "execution_count": null,
   "metadata": {
    "_uuid": "f6fee9c4881acca128f21bc5c36e7dd0495c8354"
   },
   "outputs": [],
   "source": [
    "daily_data[\"CustomersPerWeekday\"] = daily_data.Month.map(\n",
    "    data.loc[data.Week < week].groupby(\"Weekday\").CustomerID.nunique())"
   ]
  },
  {
   "cell_type": "code",
   "execution_count": null,
   "metadata": {
    "_uuid": "e0eafecac263bfae6e70307e79970aff9cf0bbe7"
   },
   "outputs": [],
   "source": [
    "X = daily_data.drop([\"Quantity\", \"Revenue\", \"Date\", \"Year\"], axis=1)\n",
    "y = daily_data.Quantity\n",
    "params = CatHyperparameter()\n",
    "\n",
    "model = Catmodel(\"new_features_1\", params)\n",
    "model.set_data(X,y, week)\n",
    "model.learn(plot=True)"
   ]
  },
  {
   "cell_type": "code",
   "execution_count": null,
   "metadata": {
    "_uuid": "5dfa19c93e7a580214fa954f38d89e996878225d"
   },
   "outputs": [],
   "source": [
    "model.score()"
   ]
  },
  {
   "cell_type": "code",
   "execution_count": null,
   "metadata": {
    "_uuid": "00a72a100de9bf75ea8d512ebefdee318c38de42"
   },
   "outputs": [],
   "source": [
    "model.show_importances(kind=None)"
   ]
  },
  {
   "cell_type": "code",
   "execution_count": null,
   "metadata": {
    "_uuid": "19e3b7244defcc24dbebc669599125f2f4c5a907"
   },
   "outputs": [],
   "source": [
    "model.show_val_results();"
   ]
  },
  {
   "cell_type": "code",
   "execution_count": null,
   "metadata": {
    "_uuid": "f0c93b4cef689cd13f6647c8977bb3a8a7441f7a"
   },
   "outputs": [],
   "source": [
    "np.mean(np.abs(np.exp(model.results.prediction) - np.exp(model.results.Quantity)))"
   ]
  },
  {
   "cell_type": "code",
   "execution_count": null,
   "metadata": {
    "_uuid": "5ed5df09932ae39011a5d87d537b608ea05ab47c"
   },
   "outputs": [],
   "source": [
    "np.median(np.abs(np.exp(model.results.prediction) - np.exp(model.results.Quantity)))"
   ]
  },
  {
   "cell_type": "code",
   "execution_count": null,
   "metadata": {
    "_uuid": "b18c4590c142adf1d9095bf52433609a4f7665a8"
   },
   "outputs": [],
   "source": [
    "search = Hypertuner(model)\n",
    "#search.learn()"
   ]
  },
  {
   "cell_type": "code",
   "execution_count": null,
   "metadata": {
    "_uuid": "e803c9f3099aedb5231fc85bbfd1b21ea886e231"
   },
   "outputs": [],
   "source": [
    "#model = search.retrain_catmodel()\n",
    "#print(model.score())"
   ]
  },
  {
   "cell_type": "code",
   "execution_count": null,
   "metadata": {
    "_uuid": "d446c93175d53ebdcfabf361001cf0bbc6f00209"
   },
   "outputs": [],
   "source": [
    "#model.show_importances(kind=None)"
   ]
  }
 ],
 "metadata": {
  "kernelspec": {
   "display_name": "Python 3",
   "language": "python",
   "name": "python3"
  },
  "language_info": {
   "codemirror_mode": {
    "name": "ipython",
    "version": 3
   },
   "file_extension": ".py",
   "mimetype": "text/x-python",
   "name": "python",
   "nbconvert_exporter": "python",
   "pygments_lexer": "ipython3",
   "version": "3.7.1"
  }
 },
 "nbformat": 4,
 "nbformat_minor": 4
}
